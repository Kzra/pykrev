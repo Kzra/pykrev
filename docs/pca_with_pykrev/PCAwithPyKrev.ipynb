{
 "cells": [
  {
   "cell_type": "markdown",
   "metadata": {},
   "source": [
    "# PCA with PyKrev"
   ]
  },
  {
   "cell_type": "markdown",
   "metadata": {},
   "source": [
    "* 1.1: In the first part of the guide we will cover how to perform PCA on your FT-MS data using the sklearn (sci-kit learn) library and PyKrev.  PCA is a dimensionality reduction technique which projects your data onto a smaller subset of axis (known as principal components) whilst preserving maximum variance.\n",
    "In this guide we will cover: \n",
    " * Data Preparation \n",
    " * Scree and variance plots\n",
    " * 2D PCA plots\n",
    " * Loading plots\n",
    "\n",
    "*One thing to note: PCA is not always the most appropriate technique for performing multivariate analysis on complex mixture FT-MS data. PCA is based on eigendecomposition of the covariance matrix of our dataset, but the covariance matrix may not be the most appropriate measure of association. Two features of FT-MS datasets can cause issues with PCA. The first is a large number of shared zeros (i.e. samples that do not contain a particular formula share 0 peak intensities for that formula in the ordination matrix). In the PCA routine this can lead to false positive  relationships, as samples that share many zero values will appear more similar to one another. The second is that PCA is designed for normally distributed variables (i.e. the peak intensities across all samples for a given molecular formula should be normally distributed). This is often not the case in FT-MS datasets. An alternative multivariate analysis technique called principal coordinate analysis (PCoA) can be used which is more robust to these issues. This will be the topic of a later guide.*"
   ]
  },
  {
   "cell_type": "code",
   "execution_count": 1,
   "metadata": {},
   "outputs": [],
   "source": [
    "from sklearn.decomposition import PCA #if you do not already have the library installed run 'pip install scikit-learn'\n",
    "import pykrev as pk\n",
    "import numpy as np\n",
    "from matplotlib import pyplot as plt\n",
    "from matplotlib.lines import Line2D\n",
    "import pandas as pd"
   ]
  },
  {
   "cell_type": "code",
   "execution_count": 2,
   "metadata": {},
   "outputs": [],
   "source": [
    "np.random.seed(87) ## seed the RNG (for reproducible figures)"
   ]
  },
  {
   "cell_type": "markdown",
   "metadata": {},
   "source": [
    "* 1.2: First we need to load in our dataset. In this example we are going to load in a batch aligned dataset. ```read_batch_formularity``` loads the batch data into an msTupleDict which we can then compute an ordination matrix on.\n",
    "  * The dataset was taken from [Kew, Will, et al. (2018)](https://pubs.acs.org/doi/10.1021/acs.analchem.8b01446) and consists of four whisky samples (W1 - W4) analysed using four complementary ionisation techniques (ESI, LDI, APCI, APPI) through FT-ICR-MS with formula assignment rules of O>0, N<2, S<=2, P<1."
   ]
  },
  {
   "cell_type": "code",
   "execution_count": 3,
   "metadata": {},
   "outputs": [],
   "source": [
    "msTupleDict = pk.read_batch_formularity('../example_data/mixed_batch.csv')\n",
    "fordination = msTupleDict.to_OrdinationMatrix(impute_value = 0)\n",
    "nsample, nformula = fordination.shape #the ordination matrix has samples in rows and formula in columns"
   ]
  },
  {
   "cell_type": "code",
   "execution_count": 4,
   "metadata": {},
   "outputs": [
    {
     "data": {
      "text/html": [
       "<div>\n",
       "<style scoped>\n",
       "    .dataframe tbody tr th:only-of-type {\n",
       "        vertical-align: middle;\n",
       "    }\n",
       "\n",
       "    .dataframe tbody tr th {\n",
       "        vertical-align: top;\n",
       "    }\n",
       "\n",
       "    .dataframe thead th {\n",
       "        text-align: right;\n",
       "    }\n",
       "</style>\n",
       "<table border=\"1\" class=\"dataframe\">\n",
       "  <thead>\n",
       "    <tr style=\"text-align: right;\">\n",
       "      <th></th>\n",
       "      <th>C18H16O6</th>\n",
       "      <th>C24H30O13</th>\n",
       "      <th>C34H22O13</th>\n",
       "      <th>C31H34O8</th>\n",
       "      <th>C21H36O18</th>\n",
       "      <th>C30H29N1O5S1</th>\n",
       "      <th>C10H21N1O10S2</th>\n",
       "      <th>C8H12O6</th>\n",
       "      <th>C26H22O5</th>\n",
       "      <th>C33H28O4</th>\n",
       "      <th>...</th>\n",
       "      <th>C14H12O3</th>\n",
       "      <th>C21H26O5</th>\n",
       "      <th>C11H18O11</th>\n",
       "      <th>C10H21N1O8S2</th>\n",
       "      <th>C22H12O4</th>\n",
       "      <th>C41H44O14</th>\n",
       "      <th>C28H15N1O3S1</th>\n",
       "      <th>C40H32O16</th>\n",
       "      <th>C34H36O9</th>\n",
       "      <th>C31H30O8</th>\n",
       "    </tr>\n",
       "  </thead>\n",
       "  <tbody>\n",
       "    <tr>\n",
       "      <th>ESI-1</th>\n",
       "      <td>10237795</td>\n",
       "      <td>0</td>\n",
       "      <td>0</td>\n",
       "      <td>0</td>\n",
       "      <td>0</td>\n",
       "      <td>0</td>\n",
       "      <td>0</td>\n",
       "      <td>7247414</td>\n",
       "      <td>0</td>\n",
       "      <td>0</td>\n",
       "      <td>...</td>\n",
       "      <td>0</td>\n",
       "      <td>0</td>\n",
       "      <td>50193736</td>\n",
       "      <td>0</td>\n",
       "      <td>0</td>\n",
       "      <td>0</td>\n",
       "      <td>0</td>\n",
       "      <td>0</td>\n",
       "      <td>0</td>\n",
       "      <td>0</td>\n",
       "    </tr>\n",
       "    <tr>\n",
       "      <th>ESI-2</th>\n",
       "      <td>5632026</td>\n",
       "      <td>0</td>\n",
       "      <td>0</td>\n",
       "      <td>0</td>\n",
       "      <td>0</td>\n",
       "      <td>0</td>\n",
       "      <td>0</td>\n",
       "      <td>7651679</td>\n",
       "      <td>0</td>\n",
       "      <td>0</td>\n",
       "      <td>...</td>\n",
       "      <td>0</td>\n",
       "      <td>0</td>\n",
       "      <td>2880039</td>\n",
       "      <td>0</td>\n",
       "      <td>0</td>\n",
       "      <td>0</td>\n",
       "      <td>0</td>\n",
       "      <td>0</td>\n",
       "      <td>0</td>\n",
       "      <td>0</td>\n",
       "    </tr>\n",
       "    <tr>\n",
       "      <th>ESI-3</th>\n",
       "      <td>14739865</td>\n",
       "      <td>4555482</td>\n",
       "      <td>0</td>\n",
       "      <td>0</td>\n",
       "      <td>3063676</td>\n",
       "      <td>0</td>\n",
       "      <td>0</td>\n",
       "      <td>12725748</td>\n",
       "      <td>0</td>\n",
       "      <td>0</td>\n",
       "      <td>...</td>\n",
       "      <td>0</td>\n",
       "      <td>0</td>\n",
       "      <td>13461351</td>\n",
       "      <td>0</td>\n",
       "      <td>0</td>\n",
       "      <td>0</td>\n",
       "      <td>0</td>\n",
       "      <td>0</td>\n",
       "      <td>0</td>\n",
       "      <td>0</td>\n",
       "    </tr>\n",
       "    <tr>\n",
       "      <th>ESI-4</th>\n",
       "      <td>9796212</td>\n",
       "      <td>0</td>\n",
       "      <td>0</td>\n",
       "      <td>0</td>\n",
       "      <td>0</td>\n",
       "      <td>0</td>\n",
       "      <td>0</td>\n",
       "      <td>9068940</td>\n",
       "      <td>0</td>\n",
       "      <td>0</td>\n",
       "      <td>...</td>\n",
       "      <td>0</td>\n",
       "      <td>0</td>\n",
       "      <td>3544131</td>\n",
       "      <td>0</td>\n",
       "      <td>0</td>\n",
       "      <td>0</td>\n",
       "      <td>0</td>\n",
       "      <td>0</td>\n",
       "      <td>0</td>\n",
       "      <td>0</td>\n",
       "    </tr>\n",
       "    <tr>\n",
       "      <th>LDI-1</th>\n",
       "      <td>27189252</td>\n",
       "      <td>2705206</td>\n",
       "      <td>5435264</td>\n",
       "      <td>0</td>\n",
       "      <td>0</td>\n",
       "      <td>0</td>\n",
       "      <td>2585822</td>\n",
       "      <td>0</td>\n",
       "      <td>3368093</td>\n",
       "      <td>0</td>\n",
       "      <td>...</td>\n",
       "      <td>3648730</td>\n",
       "      <td>0</td>\n",
       "      <td>5919961</td>\n",
       "      <td>0</td>\n",
       "      <td>8032846</td>\n",
       "      <td>0</td>\n",
       "      <td>0</td>\n",
       "      <td>3194987</td>\n",
       "      <td>0</td>\n",
       "      <td>3964358</td>\n",
       "    </tr>\n",
       "  </tbody>\n",
       "</table>\n",
       "<p>5 rows × 5855 columns</p>\n",
       "</div>"
      ],
      "text/plain": [
       "       C18H16O6 C24H30O13 C34H22O13 C31H34O8 C21H36O18 C30H29N1O5S1  \\\n",
       "ESI-1  10237795         0         0        0         0            0   \n",
       "ESI-2   5632026         0         0        0         0            0   \n",
       "ESI-3  14739865   4555482         0        0   3063676            0   \n",
       "ESI-4   9796212         0         0        0         0            0   \n",
       "LDI-1  27189252   2705206   5435264        0         0            0   \n",
       "\n",
       "      C10H21N1O10S2   C8H12O6 C26H22O5 C33H28O4  ... C14H12O3 C21H26O5  \\\n",
       "ESI-1             0   7247414        0        0  ...        0        0   \n",
       "ESI-2             0   7651679        0        0  ...        0        0   \n",
       "ESI-3             0  12725748        0        0  ...        0        0   \n",
       "ESI-4             0   9068940        0        0  ...        0        0   \n",
       "LDI-1       2585822         0  3368093        0  ...  3648730        0   \n",
       "\n",
       "      C11H18O11 C10H21N1O8S2 C22H12O4 C41H44O14 C28H15N1O3S1 C40H32O16  \\\n",
       "ESI-1  50193736            0        0         0            0         0   \n",
       "ESI-2   2880039            0        0         0            0         0   \n",
       "ESI-3  13461351            0        0         0            0         0   \n",
       "ESI-4   3544131            0        0         0            0         0   \n",
       "LDI-1   5919961            0  8032846         0            0   3194987   \n",
       "\n",
       "      C34H36O9 C31H30O8  \n",
       "ESI-1        0        0  \n",
       "ESI-2        0        0  \n",
       "ESI-3        0        0  \n",
       "ESI-4        0        0  \n",
       "LDI-1        0  3964358  \n",
       "\n",
       "[5 rows x 5855 columns]"
      ]
     },
     "execution_count": 4,
     "metadata": {},
     "output_type": "execute_result"
    }
   ],
   "source": [
    "fordination.head()"
   ]
  },
  {
   "cell_type": "markdown",
   "metadata": {},
   "source": [
    "* 1.3: We should normalise the intensity across rows to aid comparison between spectra aquired in different samples. Normalisation calculations are performed on the rows of the ordination matrix using ```normalise_intensity```. \n",
    "   * In this example we will use z-score normalised intensity (also known as snv). For each spectra this sets the mean of all peak intensities to 0 and the standard deviation to 1. \n",
    "     The formula for calculating the z-score of a point, x, is as follows: $x' = (x - \\mu)/\\sigma$. \n",
    "    * Other normalisation options available in PyKrev include pareto, mean, median and minmax normalisation, as well as sum and unit vector relative intensity and log transformation. ```normalise_intensity``` provides the functionality to perform most of the normalisation methods used in the literature. I recommend reading [van den Berg, et al.](https://link.springer.com/article/10.1186/1471-2164-7-142) for an overview of how these methods can affect metabolomics data analysis.\n",
    "  * If you would like to avoid making relative intensity calculations on your data, you can process the ordination matrix as a binary matrix, which indicates the presence or absence of a formula (1 or 0) but does not contain information about its abundance. Setting the ```norm_method``` argument to ```binary``` will create this for you. An alternative technique such as [Principal Coordinate Analysis (PCoA)](https://www.sequentix.de/gelquest/help/principal_coordinates_analysis.htm#:~:text=Principal%20Coordinates%20Analysis%20(PCoA%2C%20%3D,e.g.%20as%20a%203D%20graphics) should be used for binary data."
   ]
  },
  {
   "cell_type": "code",
   "execution_count": 5,
   "metadata": {},
   "outputs": [],
   "source": [
    "nordination = pk.normalise_intensity(fordination, norm_method = 'zscore') #this will compute zscore normalisation on rows of the dataframe\n",
    "assert np.std(nordination.iloc[0,:]) < 1.0000001 and np.std(nordination.iloc[0,:]) > 0.999\n",
    "assert np.mean(nordination.iloc[0,:]) < 0.001 and np.mean(nordination.iloc[0,:]) > -0.999"
   ]
  },
  {
   "cell_type": "markdown",
   "metadata": {},
   "source": [
    "* 1.4: Now we are ready to perform PCA using the [sklearn](https://scikit-learn.org/stable/modules/generated/sklearn.decomposition.PCA.html) library. PCA is performed by computing the eigenvectors of the covariance matrix of our dataset. The eigenvalues of each of these vectors explain how much of the variance was captured by their eigenvector. The PCA class within the sklearn library allows you to modify the method used to perform the eigendecomposition and change the number of components to keep. We are going to use the default parameters in which all principal components are kept."
   ]
  },
  {
   "cell_type": "code",
   "execution_count": 6,
   "metadata": {},
   "outputs": [],
   "source": [
    "pca = PCA() #instance of the PCA class, here we can define parameters about the PCA \n",
    "pca.fit(nordination) #fit the PCA intialised with default parameters to our data\n",
    "pca_result = pca.transform(nordination) # transform our data with the fitted model"
   ]
  },
  {
   "cell_type": "markdown",
   "metadata": {},
   "source": [
    "* 1.5: One way to visualise the variance explained by your principal coordinates is with a scree plot and a variance plot. You can use the ```scree_plot``` and ```variance_plot``` functions i've defined below to do this. "
   ]
  },
  {
   "cell_type": "code",
   "execution_count": 7,
   "metadata": {},
   "outputs": [],
   "source": [
    "def scree_plot(pca_instance, **kwargs):\n",
    "    \"\"\" This function creates a scree plot on the results of the sklearn implementation of PCA.\"\"\"\n",
    "    varExplained = pca_instance.explained_variance_ \n",
    "    componentN  = np.arange(1,len(varExplained)+1)\n",
    "    plt.bar(componentN,varExplained, **kwargs)\n",
    "    plt.xticks(componentN)\n",
    "    plt.xlabel('Principal Component')\n",
    "    plt.ylabel('Eigenvalue')\n",
    "    return plt.gcf(), plt.gca()"
   ]
  },
  {
   "cell_type": "code",
   "execution_count": 8,
   "metadata": {},
   "outputs": [],
   "source": [
    "def variance_plot(pca_instance, **kwargs):\n",
    "    \"\"\" This function creates a variance plot on the results of the sklearn implementation of PCA.\"\"\"\n",
    "    varExplained = pca_instance.explained_variance_ratio_\n",
    "    cumVarExplained = np.cumsum(pca_instance.explained_variance_ratio_)\n",
    "    componentN  = np.arange(1,len(varExplained)+1)\n",
    "    plt.scatter(componentN,varExplained)\n",
    "    plt.plot(componentN,varExplained, linestyle = '-', **kwargs)\n",
    "    plt.scatter(componentN,cumVarExplained)\n",
    "    plt.plot(componentN,cumVarExplained, linestyle = '--',**kwargs)\n",
    "    plt.xticks(componentN)\n",
    "    plt.xlabel('Principal Component')\n",
    "    plt.ylabel('Variance explained ')\n",
    "    plt.legend(['Proportion','Cumulative'])\n",
    "    return plt.gcf(), plt.gca()   "
   ]
  },
  {
   "cell_type": "code",
   "execution_count": 9,
   "metadata": {},
   "outputs": [
    {
     "data": {
      "image/png": "[encoded data removed]",
      "text/plain": [
       "<Figure size 432x288 with 1 Axes>"
      ]
     },
     "metadata": {
      "needs_background": "light"
     },
     "output_type": "display_data"
    },
    {
     "data": {
      "image/png": "[encoded data removed]",
      "text/plain": [
       "<Figure size 432x288 with 1 Axes>"
      ]
     },
     "metadata": {
      "needs_background": "light"
     },
     "output_type": "display_data"
    }
   ],
   "source": [
    "plt.figure()\n",
    "fig, ax = scree_plot(pca)\n",
    "plt.figure()\n",
    "fig, ax = variance_plot(pca)"
   ]
  },
  {
   "cell_type": "markdown",
   "metadata": {},
   "source": [
    "* 1.6: So the first principal component explains ~30.0% of variation in the dataset, and the second ~24.7%. Let's plot the data, to do this we will use the ```pca_plot``` function which is defined below."
   ]
  },
  {
   "cell_type": "code",
   "execution_count": 10,
   "metadata": {},
   "outputs": [
    {
     "data": {
      "text/plain": [
       "<matplotlib.legend.Legend at 0x1cf05133310>"
      ]
     },
     "execution_count": 10,
     "metadata": {},
     "output_type": "execute_result"
    },
    {
     "data": {
      "image/png": "[encoded data removed]",
      "text/plain": [
       "<Figure size 432x288 with 1 Axes>"
      ]
     },
     "metadata": {
      "needs_background": "light"
     },
     "output_type": "display_data"
    }
   ],
   "source": [
    "def pca_plot(pca_result, pca_instance, group_names, group_colours, text_offset = 0.002, text = False, **kwargs):\n",
    "    \"\"\" This function creates a 2D PCA plot on the results of the sklearn implementation of PCA.\"\"\"\n",
    "    assert len(group_names)==len(pca_result[:,1])\n",
    "    varExplained = pca_instance.explained_variance_ratio_\n",
    "    for i in range(0,len(group_names)):\n",
    "        # scatter points with text labels\n",
    "        plt.scatter(pca_result[i,0],pca_result[i,1], s=0) #use invisible scatter points to set appropriate axis lim\n",
    "        plt.text(pca_result[i,0],pca_result[i,1], s = group_names[i], c = group_colours[i])\n",
    "    #label axes\n",
    "    plt.xlabel(f\"PC 1 ({str(varExplained[0]*100)[:4]}%)\")\n",
    "    plt.ylabel(f\"PC 2 ({str(varExplained[1]*100)[:4]}%)\")\n",
    "    ## add axis lines (like abline in r)\n",
    "    plt.axhline(0, color='k', linestyle = '--', alpha = 0.5)\n",
    "    plt.axvline(0, color='k', linestyle = '--', alpha = 0.5)\n",
    "    return plt.gcf(), plt.gca() \n",
    "\n",
    "sample_names = ['W1','W2','W3','W4'] * 4 \n",
    "sample_colours = ['#a6cee3'] * 4 + ['#1f78b4'] * 4 + ['#b2df8a'] * 4 + ['#33a02c'] * 4 #colour blind safe! \n",
    "\n",
    "fig, ax = pca_plot(pca_result = pca_result, pca_instance = pca, text = True,\n",
    "         group_names = sample_names, group_colours = sample_colours)\n",
    "\n",
    "#set a custom legend \n",
    "legend_elements = [Line2D([0], [0], marker='o', color='w', label='ESI',\n",
    "                      markerfacecolor='#a6cee3', markersize=8),\n",
    "               Line2D([0], [0], marker='o', color='w', label='LDI',\n",
    "                      markerfacecolor='#1f78b4', markersize=8),\n",
    "               Line2D([0], [0], marker='o', color='w', label='APCI',\n",
    "                      markerfacecolor='#b2df8a', markersize=8),\n",
    "               Line2D([0], [0], marker='o', color='w', label='APPI',\n",
    "                      markerfacecolor='#33a02c', markersize=8)] \n",
    "plt.legend(handles = legend_elements, loc = 'lower right')"
   ]
  },
  {
   "cell_type": "markdown",
   "metadata": {},
   "source": [
    "* 1.7: The PCA plot is useful to visualise the separation between our samples, but how do the features of our dataset (in this case the molecular formula) contribute to this separation? To visualise this we will use loading plots. \n",
    " * First we need to extract the loadings and label them by their corresponding molecular formula. "
   ]
  },
  {
   "cell_type": "code",
   "execution_count": 11,
   "metadata": {},
   "outputs": [
    {
     "data": {
      "text/html": [
       "<div>\n",
       "<style scoped>\n",
       "    .dataframe tbody tr th:only-of-type {\n",
       "        vertical-align: middle;\n",
       "    }\n",
       "\n",
       "    .dataframe tbody tr th {\n",
       "        vertical-align: top;\n",
       "    }\n",
       "\n",
       "    .dataframe thead th {\n",
       "        text-align: right;\n",
       "    }\n",
       "</style>\n",
       "<table border=\"1\" class=\"dataframe\">\n",
       "  <thead>\n",
       "    <tr style=\"text-align: right;\">\n",
       "      <th></th>\n",
       "      <th>0</th>\n",
       "      <th>1</th>\n",
       "      <th>2</th>\n",
       "      <th>3</th>\n",
       "      <th>4</th>\n",
       "      <th>5</th>\n",
       "      <th>6</th>\n",
       "      <th>7</th>\n",
       "      <th>8</th>\n",
       "      <th>9</th>\n",
       "      <th>10</th>\n",
       "      <th>11</th>\n",
       "      <th>12</th>\n",
       "      <th>13</th>\n",
       "      <th>14</th>\n",
       "      <th>15</th>\n",
       "    </tr>\n",
       "  </thead>\n",
       "  <tbody>\n",
       "    <tr>\n",
       "      <th>C18H16O6</th>\n",
       "      <td>-0.024161</td>\n",
       "      <td>0.035228</td>\n",
       "      <td>-0.035290</td>\n",
       "      <td>0.004664</td>\n",
       "      <td>0.005190</td>\n",
       "      <td>0.030811</td>\n",
       "      <td>0.036852</td>\n",
       "      <td>0.050022</td>\n",
       "      <td>-0.012579</td>\n",
       "      <td>-0.036617</td>\n",
       "      <td>0.031934</td>\n",
       "      <td>0.028077</td>\n",
       "      <td>-0.018859</td>\n",
       "      <td>0.016729</td>\n",
       "      <td>0.014429</td>\n",
       "      <td>0.095616</td>\n",
       "    </tr>\n",
       "    <tr>\n",
       "      <th>C24H30O13</th>\n",
       "      <td>-0.004393</td>\n",
       "      <td>0.005745</td>\n",
       "      <td>0.002739</td>\n",
       "      <td>-0.005658</td>\n",
       "      <td>0.001823</td>\n",
       "      <td>-0.004816</td>\n",
       "      <td>0.010993</td>\n",
       "      <td>0.021336</td>\n",
       "      <td>-0.008935</td>\n",
       "      <td>-0.002531</td>\n",
       "      <td>-0.002569</td>\n",
       "      <td>-0.012435</td>\n",
       "      <td>-0.008195</td>\n",
       "      <td>-0.024678</td>\n",
       "      <td>-0.022731</td>\n",
       "      <td>-0.664782</td>\n",
       "    </tr>\n",
       "    <tr>\n",
       "      <th>C34H22O13</th>\n",
       "      <td>0.001803</td>\n",
       "      <td>-0.005048</td>\n",
       "      <td>0.002031</td>\n",
       "      <td>-0.001342</td>\n",
       "      <td>-0.008103</td>\n",
       "      <td>0.009879</td>\n",
       "      <td>-0.001140</td>\n",
       "      <td>-0.007648</td>\n",
       "      <td>0.007684</td>\n",
       "      <td>0.007336</td>\n",
       "      <td>0.007621</td>\n",
       "      <td>-0.001812</td>\n",
       "      <td>-0.000962</td>\n",
       "      <td>0.003395</td>\n",
       "      <td>-0.002089</td>\n",
       "      <td>0.249452</td>\n",
       "    </tr>\n",
       "    <tr>\n",
       "      <th>C31H34O8</th>\n",
       "      <td>-0.004231</td>\n",
       "      <td>0.004623</td>\n",
       "      <td>0.000600</td>\n",
       "      <td>0.007197</td>\n",
       "      <td>0.003135</td>\n",
       "      <td>-0.005668</td>\n",
       "      <td>-0.005034</td>\n",
       "      <td>0.009467</td>\n",
       "      <td>-0.009452</td>\n",
       "      <td>-0.011732</td>\n",
       "      <td>-0.016003</td>\n",
       "      <td>0.007619</td>\n",
       "      <td>-0.000245</td>\n",
       "      <td>-0.005700</td>\n",
       "      <td>-0.001072</td>\n",
       "      <td>-0.329444</td>\n",
       "    </tr>\n",
       "    <tr>\n",
       "      <th>C21H36O18</th>\n",
       "      <td>0.003529</td>\n",
       "      <td>-0.000818</td>\n",
       "      <td>0.013534</td>\n",
       "      <td>-0.011167</td>\n",
       "      <td>-0.005588</td>\n",
       "      <td>0.000848</td>\n",
       "      <td>-0.003495</td>\n",
       "      <td>0.004633</td>\n",
       "      <td>-0.009167</td>\n",
       "      <td>0.002188</td>\n",
       "      <td>0.004935</td>\n",
       "      <td>0.019676</td>\n",
       "      <td>0.012625</td>\n",
       "      <td>-0.000530</td>\n",
       "      <td>-0.007553</td>\n",
       "      <td>0.352539</td>\n",
       "    </tr>\n",
       "  </tbody>\n",
       "</table>\n",
       "</div>"
      ],
      "text/plain": [
       "                 0         1         2         3         4         5   \\\n",
       "C18H16O6  -0.024161  0.035228 -0.035290  0.004664  0.005190  0.030811   \n",
       "C24H30O13 -0.004393  0.005745  0.002739 -0.005658  0.001823 -0.004816   \n",
       "C34H22O13  0.001803 -0.005048  0.002031 -0.001342 -0.008103  0.009879   \n",
       "C31H34O8  -0.004231  0.004623  0.000600  0.007197  0.003135 -0.005668   \n",
       "C21H36O18  0.003529 -0.000818  0.013534 -0.011167 -0.005588  0.000848   \n",
       "\n",
       "                 6         7         8         9         10        11  \\\n",
       "C18H16O6   0.036852  0.050022 -0.012579 -0.036617  0.031934  0.028077   \n",
       "C24H30O13  0.010993  0.021336 -0.008935 -0.002531 -0.002569 -0.012435   \n",
       "C34H22O13 -0.001140 -0.007648  0.007684  0.007336  0.007621 -0.001812   \n",
       "C31H34O8  -0.005034  0.009467 -0.009452 -0.011732 -0.016003  0.007619   \n",
       "C21H36O18 -0.003495  0.004633 -0.009167  0.002188  0.004935  0.019676   \n",
       "\n",
       "                 12        13        14        15  \n",
       "C18H16O6  -0.018859  0.016729  0.014429  0.095616  \n",
       "C24H30O13 -0.008195 -0.024678 -0.022731 -0.664782  \n",
       "C34H22O13 -0.000962  0.003395 -0.002089  0.249452  \n",
       "C31H34O8  -0.000245 -0.005700 -0.001072 -0.329444  \n",
       "C21H36O18  0.012625 -0.000530 -0.007553  0.352539  "
      ]
     },
     "execution_count": 11,
     "metadata": {},
     "output_type": "execute_result"
    }
   ],
   "source": [
    "formula = list(fordination.columns) #extract the column headers from the ordination matrix \n",
    "loadings = pca.components_.T #extract the loadings of the formula \n",
    "loadingDF= pd.DataFrame(loadings,formula) #this constructs a dataframe with the formula as rows and the loadings for the four principal components as columns\n",
    "loadingDF.head()"
   ]
  },
  {
   "cell_type": "markdown",
   "metadata": {},
   "source": [
    "* 1.8: Now we have to visualise our loadings. There are many ways we can do this and it's a great place to get creative. Functions in the formula, plotting and diversity packages in PyKrev can help. Below I have defined functions to create : \n",
    "\n",
    "  * a loading plot that recreates a mass spectrum with the contribution of masses to the PCs using ```mass_loading_plot```.\n",
    "  * a loading plot that shows the sum contribution of compound classes to the PCs using ```cclass_loading_plot```.\n",
    "  * a loading plot that shows the sum contribution of oxygen classes to the PCs using ```oxygen_loading_plot```.\n"
   ]
  },
  {
   "cell_type": "code",
   "execution_count": 12,
   "metadata": {},
   "outputs": [],
   "source": [
    "def mass_loading_plot(loadingDF):\n",
    "    \"\"\"This function takes a loading dataframe and plots the loadings of the first 2 PCs against mass\"\"\"\n",
    "    formula = list(loadingDF.index)\n",
    "    msTuplePC1 = pk.msTuple(formula, loadingDF.iloc[:,0], [])\n",
    "    msTuplePC2 = pk.msTuple(formula, loadingDF.iloc[:,1], [])\n",
    "    pk.mass_spectrum(msTuplePC1, method = 'average', normalise= False, color = 'b')\n",
    "    pk.mass_spectrum(msTuplePC2, peak_intensities= loadingDF.iloc[:,1],method = 'average', normalise= False, color = 'orange')\n",
    "    plt.ylabel('Loading')\n",
    "    plt.legend(['PC1','PC2'])\n",
    "    \n",
    "    return plt.gcf(), plt.gca()"
   ]
  },
  {
   "cell_type": "code",
   "execution_count": 13,
   "metadata": {},
   "outputs": [],
   "source": [
    "def cclass_loading_plot(loadingDF):\n",
    "    \"\"\"This function takes a loading dataframe and plots a bar chart of compound class \n",
    "        with the sum loadings of the first 2 PCs \"\"\"\n",
    "    formula = list(loadingDF.index)\n",
    "    msTuple = pk.msTuple(formula, [], [])\n",
    "    #perform compound class assignment using the formularity assignment rules\n",
    "    assignments, counts = pk.compound_class(msTuple, method = 'FORM')\n",
    "    #make a dictionary to store the sum of the loading values per compound class inside \n",
    "    # for PC1\n",
    "    compoundPC1 = dict()\n",
    "    # initialise dictionary with 0 values\n",
    "    for i in range(0,len(loadingDF.index)):\n",
    "        compoundPC1[assignments[i]] = 0 \n",
    "    # sum the assignment values \n",
    "    for i in range(0,len(loadingDF.index)):\n",
    "        compoundPC1[assignments[i]] += loadingDF.iloc[i,0]\n",
    "    # sort the compound classes dictionaries alphabetically (ordered dicts possible in >Python 3.7)\n",
    "    sortedPC1 = dict()\n",
    "    for s in sorted(compoundPC1):\n",
    "        sortedPC1[s] = compoundPC1[s]\n",
    "    # for PC2 \n",
    "    compoundPC2 = dict()\n",
    "    for i in range(0,len(loadingDF.index)):\n",
    "        compoundPC2[assignments[i]] = 0 \n",
    "    for i in range(0,len(loadingDF.index)):\n",
    "        compoundPC2[assignments[i]] += loadingDF.iloc[i,1]\n",
    "    sortedPC2 = dict()\n",
    "    for s in sorted(compoundPC2):\n",
    "        sortedPC2[s] = compoundPC2[s]\n",
    "    # extract the values to plot on the y axis\n",
    "    y1 = np.array(list(sortedPC1.values()))\n",
    "    y2 = np.array(list(sortedPC2.values()))\n",
    "    # create a number line for the x axis, \n",
    "    #adequately spaced to allow side by side bars for PC1 and PC2\n",
    "    xrange = np.arange(0,len(y1)*3,3)\n",
    "    plt.bar(xrange,y1)\n",
    "    plt.bar(xrange+.8,y2)\n",
    "    plt.legend(['PC1','PC2'])\n",
    "    plt.axhline(0, color='k', linestyle = '--', alpha = 0.5)\n",
    "    #Include xticks \n",
    "    plt.xticks(xrange,list(sortedPC1.keys()), rotation= 'vertical')\n",
    "    plt.xlabel('Compound class')\n",
    "    plt.ylabel('Sum loadings')\n",
    "    # return the range of the x-axis (so we can set custom x ticks if needed)\n",
    "    return plt.gcf(), plt.gca(), xrange"
   ]
  },
  {
   "cell_type": "code",
   "execution_count": 14,
   "metadata": {},
   "outputs": [],
   "source": [
    "def oxygen_loading_plot(loadingDF):\n",
    "    \"\"\"This function takes a loading dataframe and plots a bar chart of oxygen class \n",
    "        with the sum loadings of the first 2 PCs \"\"\"\n",
    "    formula = list(loadingDF.index)\n",
    "    msTuple = pk.msTuple(formula, [], [])\n",
    "    #perform oxygen class assignment using element counts \n",
    "    oxygen_counts = [o['O'] for o in pk.element_counts(msTuple)]\n",
    "    #make a dictionary to store the sum of the loading values per compound class inside \n",
    "    # for PC1\n",
    "    oxygenPC1 = dict()\n",
    "    # initialise dictionary with 0 values\n",
    "    for i in range(0,len(loadingDF.index)):\n",
    "        oxygenPC1[oxygen_counts[i]] = 0 \n",
    "    # sum the assignment values \n",
    "    for i in range(0,len(loadingDF.index)):\n",
    "        oxygenPC1[oxygen_counts[i]] += loadingDF.iloc[i,0]\n",
    "    # sort the oxygen class dictionaries numerically (ordered dicts possible in >Python 3.7)\n",
    "    sortedPC1 = dict()\n",
    "    for s in sorted(oxygenPC1):\n",
    "        sortedPC1[s] = oxygenPC1[s]\n",
    "    # for PC2 \n",
    "    oxygenPC2 = dict()\n",
    "    for i in range(0,len(loadingDF.index)):\n",
    "        oxygenPC2[oxygen_counts[i]] = 0 \n",
    "    for i in range(0,len(loadingDF.index)):\n",
    "        oxygenPC2[oxygen_counts[i]] += loadingDF.iloc[i,1]\n",
    "    sortedPC2 = dict()\n",
    "    for s in sorted(oxygenPC2):\n",
    "        sortedPC2[s] = oxygenPC2[s]\n",
    "    # extract the values to plot on the y axis\n",
    "    y1 = np.array(list(sortedPC1.values()))\n",
    "    y2 = np.array(list(sortedPC2.values()))\n",
    "    # create a number line for the x axis, \n",
    "    #adequately spaced to allow side by side bars for PC1 and PC2\n",
    "    xrange = np.arange(0,len(y1)*3,3)\n",
    "    plt.bar(xrange,y1)\n",
    "    plt.bar(xrange+.8,y2)\n",
    "    plt.legend(['PC1','PC2'])\n",
    "    plt.axhline(0, color='k', linestyle = '--', alpha = 0.5)\n",
    "    #Include xticks \n",
    "    plt.xticks(xrange,list(sortedPC1.keys()), rotation= 'vertical')\n",
    "    plt.xlabel('Oxygen class')\n",
    "    plt.ylabel('Sum loadings')\n",
    "    # return the range of the x-axis (so we can set custom x ticks if needed)\n",
    "    return plt.gcf(), plt.gca(), xrange"
   ]
  },
  {
   "cell_type": "markdown",
   "metadata": {},
   "source": [
    "* 1.9: In each case I like to plot the positions of the samples on the first two principal components next to the loading plot to make analysing the plots easier. This is possible using ```plt.subplots``` to create panelled figures. \n"
   ]
  },
  {
   "cell_type": "code",
   "execution_count": 15,
   "metadata": {},
   "outputs": [],
   "source": [
    "# First we want to create random x coordinates for the PC1 and PC2 points\n",
    "randomx = np.array([])\n",
    "for i in range(0,16):\n",
    "    ## the np.random function shudders the x coordinates of the points, which is necessary to prevent overlap\n",
    "    randomx = np.append(randomx,np.random.uniform(-.1,.1, 1))\n",
    " \n",
    "# The following variables will be shared by all the loading plots\n",
    "varExplained = pca.explained_variance_ratio_ #variance explained in your PCA results\n",
    "sample_name = ['W1','W2','W3','W4'] * 4 \n",
    "whisky_type = ['ESI'] * 4 + ['LDI'] * 4 + ['APCI'] * 4 + ['APPI'] * 4\n",
    "group_colours = ['#a6cee3'] * 4 + ['#1f78b4'] * 4 + ['#b2df8a'] * 4 + ['#33a02c'] * 4\n",
    "\n",
    "legend_elements = [Line2D([0], [0], marker='o', color='w', label='ESI',\n",
    "                          markerfacecolor='#a6cee3', markersize=8),\n",
    "                   Line2D([0], [0], marker='o', color='w', label='LDI',\n",
    "                          markerfacecolor='#1f78b4', markersize=8),\n",
    "                   Line2D([0], [0], marker='o', color='w', label='APCI',\n",
    "                          markerfacecolor='#b2df8a', markersize=8),\n",
    "                   Line2D([0], [0], marker='o', color='w', label='APPI',\n",
    "                          markerfacecolor='#33a02c', markersize=8)]"
   ]
  },
  {
   "cell_type": "code",
   "execution_count": 16,
   "metadata": {},
   "outputs": [
    {
     "data": {
      "image/png": "[encoded data removed]",
      "text/plain": [
       "<Figure size 720x288 with 3 Axes>"
      ]
     },
     "metadata": {
      "needs_background": "light"
     },
     "output_type": "display_data"
    }
   ],
   "source": [
    "## MASS LOADINGS \n",
    "plt.figure(figsize=(10, 4)) # create the overall figure\n",
    "plt.subplot(1,4,(1,2)) #take the first two panels of the subplot for the loading plot\n",
    "mass_loading_plot(loadingDF)\n",
    "plt.ylim(-1,1) # centre the y axis\n",
    "plt.xlabel('Average atomic mass (Da)')\n",
    "plt.subplot(1,4,3) #take the third panel for the PC1 plot\n",
    "for i in range(0,16):\n",
    "    plt.text(randomx[i],pca_result[i,0],s = sample_name[i],color = group_colours[i])\n",
    "plt.title(f'PC1 ({str(varExplained[0]*100)[:4]}%)') #include the % variance explained in the label\n",
    "plt.ylim(-55,55)\n",
    "plt.xlim(-.15,.15)\n",
    "plt.xticks([])\n",
    "plt.yticks([])\n",
    "plt.axhline(0, color='k', linestyle = '--', alpha = 0.5)\n",
    "plt.subplot(1,4,4) #take the final panel for the PC2 plot\n",
    "for i in range(0,16):\n",
    "        plt.text(randomx[i],pca_result[i,1],s = sample_name[i],color = group_colours[i])\n",
    "plt.title(f'PC2 ({str(varExplained[1]*100)[:4]}%)')\n",
    "plt.ylim(-55,55)\n",
    "plt.xlim(-.15,.15)\n",
    "plt.xticks([])\n",
    "plt.yticks([])\n",
    "plt.axhline(0, color='k', linestyle = '--', alpha = 0.5)                 \n",
    "plt.legend(handles = legend_elements, loc = 'lower right')\n",
    "plt.tight_layout()\n",
    "plt.show()"
   ]
  },
  {
   "cell_type": "code",
   "execution_count": 17,
   "metadata": {},
   "outputs": [
    {
     "data": {
      "image/png": "[encoded data removed]",
      "text/plain": [
       "<Figure size 720x288 with 3 Axes>"
      ]
     },
     "metadata": {
      "needs_background": "light"
     },
     "output_type": "display_data"
    }
   ],
   "source": [
    "## COMPOUND CLASS LOADINGS \n",
    "## Important!! If you are copying this code, first check the order of your xticks before manually setting them\n",
    "custom_classes = ['Amino\\nSugar','Carb','Con\\nHC','Lignin','Lipid','NA','Protein','Tannin','Unsat\\nHC']\n",
    "plt.figure(figsize=(10, 4)) # create the overall figure\n",
    "plt.subplot(1,4,(1,2)) #take two panels of the subplot for the loading plot\n",
    "fig, ax, xrange = cclass_loading_plot(loadingDF)\n",
    "plt.ylim(-7,7) #centre the y axis\n",
    "## Important!! If you are copying this code, first check the order of your xticks before manually setting them\n",
    "plt.xticks(xrange,custom_classes, rotation = 'horizontal') #Set custom xticks to save space\n",
    "plt.subplot(1,4,3) #take the third panel for the PC1 plot\n",
    "for i in range(0,16):\n",
    "    ## the np.random function shudders the x coordinates of the points, which is necessary to prevent overlap\n",
    "    plt.text(randomx[i],pca_result[i,0],s = sample_name[i],color = group_colours[i])\n",
    "plt.title(f'PC1 ({str(varExplained[0]*100)[:4]}%)') #include the % variance explained in the \n",
    "plt.ylim(-55,55)\n",
    "plt.xlim(-.15,.15)\n",
    "plt.xticks([])\n",
    "plt.yticks([])\n",
    "plt.axhline(0, color='k', linestyle = '--', alpha = 0.5)\n",
    "plt.subplot(1,4,4) #take the final panel for the PC2 plot\n",
    "for i in range(0,16):\n",
    "        plt.text(randomx[i],pca_result[i,1],s = sample_name[i],color = group_colours[i])\n",
    "plt.title(f'PC2 ({str(varExplained[1]*100)[:4]}%)')\n",
    "plt.ylim(-55,55)\n",
    "plt.xlim(-.15,.15)\n",
    "plt.xticks([])\n",
    "plt.yticks([])\n",
    "plt.axhline(0, color='k', linestyle = '--', alpha = 0.5)             \n",
    "plt.legend(handles = legend_elements, loc = 'lower right')\n",
    "plt.tight_layout()\n",
    "plt.show()"
   ]
  },
  {
   "cell_type": "code",
   "execution_count": 18,
   "metadata": {},
   "outputs": [
    {
     "data": {
      "image/png": "[encoded data removed]",
      "text/plain": [
       "<Figure size 720x288 with 3 Axes>"
      ]
     },
     "metadata": {
      "needs_background": "light"
     },
     "output_type": "display_data"
    }
   ],
   "source": [
    "## OXYGEN CLASS LOADINGS \n",
    "plt.figure(figsize=(10, 4)) # create the overall figure\n",
    "plt.subplot(1,4,(1,2)) #take two panels of the subplot for the loading plot\n",
    "oxygen_loading_plot(loadingDF)\n",
    "plt.ylim(-3,3) #centre the y axis\n",
    "plt.subplot(1,4,3) #take the third panel for the PC1 plot\n",
    "for i in range(0,16):\n",
    "    plt.text(randomx[i],pca_result[i,0],s = sample_name[i],color = group_colours[i])\n",
    "plt.title(f'PC1 ({str(varExplained[0]*100)[:4]}%)')\n",
    "plt.ylim(-55,55)\n",
    "plt.xlim(-.15,.15)\n",
    "plt.xticks([])\n",
    "plt.yticks([])\n",
    "plt.axhline(0, color='k', linestyle = '--', alpha = 0.5)\n",
    "plt.subplot(1,4,4) #take the final panel for the PC2 plot\n",
    "for i in range(0,16):\n",
    "        plt.text(randomx[i],pca_result[i,1],s = sample_name[i],color = group_colours[i])\n",
    "plt.title(f'PC2 ({str(varExplained[1]*100)[:4]}%)')\n",
    "plt.ylim(-55,55)\n",
    "plt.xlim(-.15,.15)\n",
    "plt.xticks([])\n",
    "plt.yticks([])\n",
    "plt.axhline(0, color='k', linestyle = '--', alpha = 0.5)              \n",
    "plt.legend(handles = legend_elements, loc = 'lower right')\n",
    "plt.tight_layout()\n",
    "plt.show()"
   ]
  },
  {
   "cell_type": "markdown",
   "metadata": {},
   "source": [
    "**That's the end of the guide.** Hopefully you are now more comfortable using sklearn and PyKrev to perform dimensionality reduction on your FT-MS data and interpret the results. One of the main advantages of doing your data analysis in Python is being able to use the powerful machine learning libraries Python has to offer. sklearn has many capabilities beyond PCA - ... discriminant analysis, k-means clustering, neural networks, random forest classifiers and  support vector machines to name just a few -  that will enable you to ask new and interesting questions with your data. [ You can learn more about them here.](https://scikit-learn.org/stable/)"
   ]
  }
 ],
 "metadata": {
  "kernelspec": {
   "display_name": "Python 3",
   "language": "python",
   "name": "python3"
  },
  "language_info": {
   "codemirror_mode": {
    "name": "ipython",
    "version": 3
   },
   "file_extension": ".py",
   "mimetype": "text/x-python",
   "name": "python",
   "nbconvert_exporter": "python",
   "pygments_lexer": "ipython3",
   "version": "3.9.1"
  }
 },
 "nbformat": 4,
 "nbformat_minor": 4
}
