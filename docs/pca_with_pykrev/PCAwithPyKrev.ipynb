{
 "cells": [
  {
   "cell_type": "markdown",
   "metadata": {},
   "source": [
    "# PCA with PyKrev"
   ]
  },
  {
   "cell_type": "markdown",
   "metadata": {},
   "source": [
    "* 1.1: In the first part of the guide we will cover how to perform PCA on your FT-MS data using the sklearn (sci-kit learn) library and PyKrev.  PCA is a dimensionality reduction technique which projects your data onto a smaller subset of axis (known as principal components) whilst preserving maximum variance.\n",
    "In this guide we will cover: \n",
    "    * Data Preparation \n",
    "    * Scree and variance plots\n",
    "    * 2D PCA plots\n",
    "    * Loading plots\n",
    "\n",
    "*One thing to note: PCA is not always the most appropriate technique for performing multivariate analysis on complex mixture FT-MS data. PCA is based on eigendecomposition of the covariance matrix of our dataset, but the covariance matrix may not be the most appropriate measure of association. Two features of FT-MS datasets can cause issues with PCA. The first is a large number of shared zeros (i.e. samples that do not contain a particular formula share 0 peak intensities for that formula in the ordination matrix). In the PCA routine this can lead to false positive  relationships, as samples that share many zero values will appear more similar to one another. The second is that PCA is designed for normally distributed variables (i.e. the peak intensities across all samples for a given molecular formula should be normally distributed). This is often not the case in FT-MS datasets. An alternative multivariate analysis technique called principal coordinate analysis (PCoA) can be used which is more robust to these issues. This will be the topic of a later guide.*"
   ]
  },
  {
   "cell_type": "code",
   "execution_count": 1,
   "metadata": {},
   "outputs": [],
   "source": [
    "from sklearn.decomposition import PCA #if you do not already have the library installed run 'pip install scikit-learn'\n",
    "import pykrev as pk\n",
    "import numpy as np\n",
    "from matplotlib import pyplot as plt\n",
    "from matplotlib.lines import Line2D\n",
    "import pandas as pd"
   ]
  },
  {
   "cell_type": "code",
   "execution_count": 2,
   "metadata": {},
   "outputs": [],
   "source": [
    "np.random.seed(87) ## seed the RNG (for reproducible figures)"
   ]
  },
  {
   "cell_type": "markdown",
   "metadata": {},
   "source": [
    "* 1.2: First we need to load in our dataset. In this example we are going to load in a batch aligned dataset. ```read_batch_formularity``` loads the batch data into an msTupleDict which we can then compute an ordination matrix on.\n",
    "  * The dataset was taken from [Kew, Will, et al. (2018)](https://pubs.acs.org/doi/10.1021/acs.analchem.8b01446) and consists of four whisky samples (W1 - W4) analysed using four complementary ionisation techniques (ESI, LDI, APCI, APPI) through FT-ICR-MS with formula assignment rules of O>0, N<2, S<=2, P<1."
   ]
  },
  {
   "cell_type": "code",
   "execution_count": 3,
   "metadata": {},
   "outputs": [],
   "source": [
    "msTupleDict = pk.read_batch_formularity('../example_data/mixed_batch.csv')\n",
    "fordination = msTupleDict.to_OrdinationMatrix(impute_value = 0)\n",
    "nsample, nformula = fordination.shape #the ordination matrix has samples in rows and formula in columns"
   ]
  },
  {
   "cell_type": "code",
   "execution_count": 4,
   "metadata": {},
   "outputs": [
    {
     "data": {
      "text/html": [
       "<div>\n",
       "<style scoped>\n",
       "    .dataframe tbody tr th:only-of-type {\n",
       "        vertical-align: middle;\n",
       "    }\n",
       "\n",
       "    .dataframe tbody tr th {\n",
       "        vertical-align: top;\n",
       "    }\n",
       "\n",
       "    .dataframe thead th {\n",
       "        text-align: right;\n",
       "    }\n",
       "</style>\n",
       "<table border=\"1\" class=\"dataframe\">\n",
       "  <thead>\n",
       "    <tr style=\"text-align: right;\">\n",
       "      <th></th>\n",
       "      <th>ESI-1</th>\n",
       "      <th>ESI-2</th>\n",
       "      <th>ESI-3</th>\n",
       "      <th>ESI-4</th>\n",
       "      <th>LDI-1</th>\n",
       "      <th>LDI-2</th>\n",
       "      <th>LDI-3</th>\n",
       "      <th>LDI-4</th>\n",
       "      <th>APCI-1</th>\n",
       "      <th>APCI-2</th>\n",
       "      <th>APCI-3</th>\n",
       "      <th>APCI-4</th>\n",
       "      <th>APPI-1</th>\n",
       "      <th>APPI-2</th>\n",
       "      <th>APPI-3</th>\n",
       "      <th>APPI-4</th>\n",
       "    </tr>\n",
       "  </thead>\n",
       "  <tbody>\n",
       "    <tr>\n",
       "      <th>C32H30O12</th>\n",
       "      <td>0</td>\n",
       "      <td>0</td>\n",
       "      <td>0</td>\n",
       "      <td>0</td>\n",
       "      <td>7386831</td>\n",
       "      <td>5862956</td>\n",
       "      <td>7245430</td>\n",
       "      <td>5788222</td>\n",
       "      <td>10429665</td>\n",
       "      <td>0</td>\n",
       "      <td>9240464</td>\n",
       "      <td>0</td>\n",
       "      <td>0</td>\n",
       "      <td>0</td>\n",
       "      <td>0</td>\n",
       "      <td>0</td>\n",
       "    </tr>\n",
       "    <tr>\n",
       "      <th>C40H44O17</th>\n",
       "      <td>0</td>\n",
       "      <td>0</td>\n",
       "      <td>0</td>\n",
       "      <td>0</td>\n",
       "      <td>0</td>\n",
       "      <td>0</td>\n",
       "      <td>0</td>\n",
       "      <td>0</td>\n",
       "      <td>3488353</td>\n",
       "      <td>0</td>\n",
       "      <td>4788701</td>\n",
       "      <td>0</td>\n",
       "      <td>0</td>\n",
       "      <td>0</td>\n",
       "      <td>0</td>\n",
       "      <td>0</td>\n",
       "    </tr>\n",
       "    <tr>\n",
       "      <th>C22H26O4</th>\n",
       "      <td>0</td>\n",
       "      <td>0</td>\n",
       "      <td>0</td>\n",
       "      <td>0</td>\n",
       "      <td>0</td>\n",
       "      <td>3983003</td>\n",
       "      <td>0</td>\n",
       "      <td>2525876</td>\n",
       "      <td>0</td>\n",
       "      <td>0</td>\n",
       "      <td>0</td>\n",
       "      <td>0</td>\n",
       "      <td>0</td>\n",
       "      <td>0</td>\n",
       "      <td>0</td>\n",
       "      <td>0</td>\n",
       "    </tr>\n",
       "    <tr>\n",
       "      <th>C32H19N1O3S1</th>\n",
       "      <td>0</td>\n",
       "      <td>0</td>\n",
       "      <td>0</td>\n",
       "      <td>0</td>\n",
       "      <td>2554854</td>\n",
       "      <td>0</td>\n",
       "      <td>0</td>\n",
       "      <td>0</td>\n",
       "      <td>5071625</td>\n",
       "      <td>0</td>\n",
       "      <td>5099942</td>\n",
       "      <td>0</td>\n",
       "      <td>0</td>\n",
       "      <td>0</td>\n",
       "      <td>0</td>\n",
       "      <td>0</td>\n",
       "    </tr>\n",
       "    <tr>\n",
       "      <th>C18H32O18</th>\n",
       "      <td>0</td>\n",
       "      <td>0</td>\n",
       "      <td>0</td>\n",
       "      <td>0</td>\n",
       "      <td>0</td>\n",
       "      <td>2762499</td>\n",
       "      <td>0</td>\n",
       "      <td>0</td>\n",
       "      <td>0</td>\n",
       "      <td>0</td>\n",
       "      <td>0</td>\n",
       "      <td>0</td>\n",
       "      <td>4286514</td>\n",
       "      <td>0</td>\n",
       "      <td>2878579</td>\n",
       "      <td>0</td>\n",
       "    </tr>\n",
       "  </tbody>\n",
       "</table>\n",
       "</div>"
      ],
      "text/plain": [
       "             ESI-1 ESI-2 ESI-3 ESI-4    LDI-1    LDI-2    LDI-3    LDI-4  \\\n",
       "C32H30O12        0     0     0     0  7386831  5862956  7245430  5788222   \n",
       "C40H44O17        0     0     0     0        0        0        0        0   \n",
       "C22H26O4         0     0     0     0        0  3983003        0  2525876   \n",
       "C32H19N1O3S1     0     0     0     0  2554854        0        0        0   \n",
       "C18H32O18        0     0     0     0        0  2762499        0        0   \n",
       "\n",
       "                APCI-1 APCI-2   APCI-3 APCI-4   APPI-1 APPI-2   APPI-3 APPI-4  \n",
       "C32H30O12     10429665      0  9240464      0        0      0        0      0  \n",
       "C40H44O17      3488353      0  4788701      0        0      0        0      0  \n",
       "C22H26O4             0      0        0      0        0      0        0      0  \n",
       "C32H19N1O3S1   5071625      0  5099942      0        0      0        0      0  \n",
       "C18H32O18            0      0        0      0  4286514      0  2878579      0  "
      ]
     },
     "execution_count": 4,
     "metadata": {},
     "output_type": "execute_result"
    }
   ],
   "source": [
    "fordination.T.head()"
   ]
  },
  {
   "cell_type": "markdown",
   "metadata": {},
   "source": [
    "* 1.3: We should normalise the intensity across rows to aid comparison between spectra aquired in different samples. Normalisation calculations can be performed on the rows or the columns of the ordination matrix using ```normalise_intensity```. \n",
    "   * If we normalise the rows of the ordination matrix, we account for uninduced spectrum to spectrum variation in concentration, arising from dilution effects.\n",
    "   * If we normalise the columns of the ordination matrix, we account for magnitude differences in the concentration and variation of the metabolites in our dataset. This is important as high concentration metabolites are more likely to exhibit high variation (this is a component of heteroscedasticity, unequal variance in the dataset) but are not necessarily more important to the system we are studying. \n",
    "   * In this example we will both row-wise and column-wise normalise the data. We will first row normalise the data using sum normalisation (so the sum of all intensities in a spectra is 1), we will then use the cubed power transformation and centering to normalise the columns. \n",
    "    * There are many other normalisation options available in PyKrev include pareto, mean, median and minmax normalisation, as well as sum and unit vector relative intensity and log, power2 and power3 transformation. ```normalise_intensity``` provides the functionality to perform most of the normalisation methods used in the literature. I recommend reading [van den Berg, et al.](https://link.springer.com/article/10.1186/1471-2164-7-142) for an overview of how these methods can affect metabolomics data analysis.\n",
    "  * If you would like to avoid making relative intensity calculations on your data, you can process the ordination matrix as a binary matrix, which indicates the presence or absence of a formula (1 or 0) but does not contain information about its abundance. Setting the ```norm_method``` argument to ```binary``` will create this for you. An alternative technique such as Principal Coordinate Analysis (PCoA) should be used for binary data."
   ]
  },
  {
   "cell_type": "code",
   "execution_count": 5,
   "metadata": {},
   "outputs": [],
   "source": [
    "nordination = pk.normalise_intensity(fordination, norm_method = 'sum', norm_direction = 'rows') #this will row normalise the data (account for sample-sample variation arising from dilution effects)\n",
    "nordination = pk.normalise_intensity(nordination, norm_method = 'center', norm_transform = 'power3', norm_direction = 'columns') #this will row normalise the data (account for sample-sample variation arising from dilution effects)\n",
    "#assert np.std(nordination.iloc[:,0]) < 1.0000001 and np.std(nordination.iloc[:,0]) > 0.999\n",
    "assert np.mean(nordination.iloc[:,0]) < 0.001 and np.mean(nordination.iloc[:,0]) > -0.999"
   ]
  },
  {
   "cell_type": "markdown",
   "metadata": {},
   "source": [
    "* 1.4: Now we are ready to perform PCA using the [sklearn](https://scikit-learn.org/stable/modules/generated/sklearn.decomposition.PCA.html) library. PCA is performed by computing the eigenvectors of the covariance matrix of our dataset. The eigenvalues of each of these vectors explain how much of the variance was captured by their eigenvector. The PCA class within the sklearn library allows you to modify the method used to perform the eigendecomposition and change the number of components to keep. We are going to use the default parameters in which all principal components are kept."
   ]
  },
  {
   "cell_type": "code",
   "execution_count": 6,
   "metadata": {},
   "outputs": [],
   "source": [
    "pca = PCA() #instance of the PCA class, here we can define parameters about the PCA \n",
    "pca.fit(nordination) #fit the PCA intialised with default parameters to our data\n",
    "pca_result = pca.transform(nordination) # transform our data with the fitted model"
   ]
  },
  {
   "cell_type": "markdown",
   "metadata": {},
   "source": [
    "* 1.5: One way to visualise the variance explained by your principal coordinates is with a scree plot and a variance plot. You can use the ```scree_plot``` and ```variance_plot``` functions i've defined below to do this. "
   ]
  },
  {
   "cell_type": "code",
   "execution_count": 7,
   "metadata": {},
   "outputs": [],
   "source": [
    "def scree_plot(pca_instance, **kwargs):\n",
    "    \"\"\" This function creates a scree plot on the results of the sklearn implementation of PCA.\"\"\"\n",
    "    varExplained = pca_instance.explained_variance_ \n",
    "    componentN  = np.arange(1,len(varExplained)+1)\n",
    "    plt.bar(componentN,varExplained, **kwargs)\n",
    "    plt.xticks(componentN)\n",
    "    plt.xlabel('Principal Component')\n",
    "    plt.ylabel('Eigenvalue')\n",
    "    return plt.gcf(), plt.gca()"
   ]
  },
  {
   "cell_type": "code",
   "execution_count": 8,
   "metadata": {},
   "outputs": [],
   "source": [
    "def variance_plot(pca_instance, **kwargs):\n",
    "    \"\"\" This function creates a variance plot on the results of the sklearn implementation of PCA.\"\"\"\n",
    "    varExplained = pca_instance.explained_variance_ratio_\n",
    "    cumVarExplained = np.cumsum(pca_instance.explained_variance_ratio_)\n",
    "    componentN  = np.arange(1,len(varExplained)+1)\n",
    "    plt.scatter(componentN,varExplained)\n",
    "    plt.plot(componentN,varExplained, linestyle = '-', **kwargs)\n",
    "    plt.scatter(componentN,cumVarExplained)\n",
    "    plt.plot(componentN,cumVarExplained, linestyle = '--',**kwargs)\n",
    "    plt.xticks(componentN)\n",
    "    plt.xlabel('Principal Component')\n",
    "    plt.ylabel('Variance explained ')\n",
    "    plt.legend(['Proportion','Cumulative'])\n",
    "    return plt.gcf(), plt.gca()   "
   ]
  },
  {
   "cell_type": "code",
   "execution_count": 9,
   "metadata": {},
   "outputs": [
    {
     "data": {
      "image/png": "[encoded data removed]",
      "text/plain": [
       "<Figure size 432x288 with 1 Axes>"
      ]
     },
     "metadata": {
      "needs_background": "light"
     },
     "output_type": "display_data"
    },
    {
     "data": {
      "image/png": "[encoded data removed]",
      "text/plain": [
       "<Figure size 432x288 with 1 Axes>"
      ]
     },
     "metadata": {
      "needs_background": "light"
     },
     "output_type": "display_data"
    }
   ],
   "source": [
    "plt.figure()\n",
    "fig, ax = scree_plot(pca)\n",
    "plt.figure()\n",
    "fig, ax = variance_plot(pca)"
   ]
  },
  {
   "cell_type": "markdown",
   "metadata": {},
   "source": [
    "* 1.6: So the first principal component explains ~30.0% of variation in the dataset, and the second ~24.7%. Let's plot the data, to do this we will use the ```pca_plot``` function which is defined below."
   ]
  },
  {
   "cell_type": "code",
   "execution_count": 10,
   "metadata": {},
   "outputs": [
    {
     "data": {
      "text/plain": [
       "<matplotlib.legend.Legend at 0x1e0cfb77850>"
      ]
     },
     "execution_count": 10,
     "metadata": {},
     "output_type": "execute_result"
    },
    {
     "data": {
      "image/png": "[encoded data removed]",
      "text/plain": [
       "<Figure size 432x288 with 1 Axes>"
      ]
     },
     "metadata": {
      "needs_background": "light"
     },
     "output_type": "display_data"
    }
   ],
   "source": [
    "def pca_plot(pca_result, pca_instance, group_names, group_colours, text_offset = 0.002, text = False, **kwargs):\n",
    "    \"\"\" This function creates a 2D PCA plot on the results of the sklearn implementation of PCA.\"\"\"\n",
    "    assert len(group_names)==len(pca_result[:,1])\n",
    "    varExplained = pca_instance.explained_variance_ratio_\n",
    "    for i in range(0,len(group_names)):\n",
    "        # scatter points with text labels\n",
    "        plt.scatter(pca_result[i,0],pca_result[i,1], s=0) #use invisible scatter points to set appropriate axis lim\n",
    "        plt.text(pca_result[i,0],pca_result[i,1], s = group_names[i], c = group_colours[i])\n",
    "    #label axes\n",
    "    plt.xlabel(f\"PC 1 ({str(varExplained[0]*100)[:4]}%)\")\n",
    "    plt.ylabel(f\"PC 2 ({str(varExplained[1]*100)[:4]}%)\")\n",
    "    ## add axis lines (like abline in r)\n",
    "    plt.axhline(0, color='k', linestyle = '--', alpha = 0.5)\n",
    "    plt.axvline(0, color='k', linestyle = '--', alpha = 0.5)\n",
    "    return plt.gcf(), plt.gca() \n",
    "\n",
    "sample_names = ['W1','W2','W3','W4'] * 4 \n",
    "sample_colours = ['#a6cee3'] * 4 + ['#1f78b4'] * 4 + ['#b2df8a'] * 4 + ['#33a02c'] * 4 #colour blind safe! \n",
    "\n",
    "fig, ax = pca_plot(pca_result = pca_result, pca_instance = pca, text = True,\n",
    "         group_names = sample_names, group_colours = sample_colours)\n",
    "\n",
    "#set a custom legend \n",
    "legend_elements = [Line2D([0], [0], marker='o', color='w', label='ESI',\n",
    "                      markerfacecolor='#a6cee3', markersize=8),\n",
    "               Line2D([0], [0], marker='o', color='w', label='LDI',\n",
    "                      markerfacecolor='#1f78b4', markersize=8),\n",
    "               Line2D([0], [0], marker='o', color='w', label='APCI',\n",
    "                      markerfacecolor='#b2df8a', markersize=8),\n",
    "               Line2D([0], [0], marker='o', color='w', label='APPI',\n",
    "                      markerfacecolor='#33a02c', markersize=8)] \n",
    "plt.legend(handles = legend_elements, loc = 'lower right')"
   ]
  },
  {
   "cell_type": "markdown",
   "metadata": {},
   "source": [
    "* 1.7: The PCA plot is useful to visualise the separation between our samples, but how do the features of our dataset (in this case the molecular formula) contribute to this separation? To visualise this we will use loading plots. \n",
    "    * First we need to extract the loadings and label them by their corresponding molecular formula. "
   ]
  },
  {
   "cell_type": "code",
   "execution_count": 11,
   "metadata": {},
   "outputs": [
    {
     "data": {
      "text/html": [
       "<div>\n",
       "<style scoped>\n",
       "    .dataframe tbody tr th:only-of-type {\n",
       "        vertical-align: middle;\n",
       "    }\n",
       "\n",
       "    .dataframe tbody tr th {\n",
       "        vertical-align: top;\n",
       "    }\n",
       "\n",
       "    .dataframe thead th {\n",
       "        text-align: right;\n",
       "    }\n",
       "</style>\n",
       "<table border=\"1\" class=\"dataframe\">\n",
       "  <thead>\n",
       "    <tr style=\"text-align: right;\">\n",
       "      <th></th>\n",
       "      <th>0</th>\n",
       "      <th>1</th>\n",
       "      <th>2</th>\n",
       "      <th>3</th>\n",
       "      <th>4</th>\n",
       "      <th>5</th>\n",
       "      <th>6</th>\n",
       "      <th>7</th>\n",
       "      <th>8</th>\n",
       "      <th>9</th>\n",
       "      <th>10</th>\n",
       "      <th>11</th>\n",
       "      <th>12</th>\n",
       "      <th>13</th>\n",
       "      <th>14</th>\n",
       "      <th>15</th>\n",
       "    </tr>\n",
       "  </thead>\n",
       "  <tbody>\n",
       "    <tr>\n",
       "      <th>C32H30O12</th>\n",
       "      <td>0.022433</td>\n",
       "      <td>0.005717</td>\n",
       "      <td>0.011945</td>\n",
       "      <td>0.000369</td>\n",
       "      <td>-0.013166</td>\n",
       "      <td>-0.023259</td>\n",
       "      <td>-0.004413</td>\n",
       "      <td>-0.008883</td>\n",
       "      <td>0.006541</td>\n",
       "      <td>0.005953</td>\n",
       "      <td>0.001328</td>\n",
       "      <td>-0.001978</td>\n",
       "      <td>-0.001965</td>\n",
       "      <td>-0.001940</td>\n",
       "      <td>0.000055</td>\n",
       "      <td>-0.190090</td>\n",
       "    </tr>\n",
       "    <tr>\n",
       "      <th>C40H44O17</th>\n",
       "      <td>0.000776</td>\n",
       "      <td>0.013164</td>\n",
       "      <td>0.008257</td>\n",
       "      <td>-0.001596</td>\n",
       "      <td>-0.017465</td>\n",
       "      <td>-0.013377</td>\n",
       "      <td>-0.004615</td>\n",
       "      <td>-0.006924</td>\n",
       "      <td>0.003304</td>\n",
       "      <td>0.003840</td>\n",
       "      <td>0.000591</td>\n",
       "      <td>0.002866</td>\n",
       "      <td>-0.003530</td>\n",
       "      <td>-0.002824</td>\n",
       "      <td>0.001170</td>\n",
       "      <td>-0.314236</td>\n",
       "    </tr>\n",
       "    <tr>\n",
       "      <th>C22H26O4</th>\n",
       "      <td>0.009422</td>\n",
       "      <td>-0.004011</td>\n",
       "      <td>-0.010341</td>\n",
       "      <td>0.006649</td>\n",
       "      <td>-0.007426</td>\n",
       "      <td>0.009049</td>\n",
       "      <td>-0.010284</td>\n",
       "      <td>-0.023070</td>\n",
       "      <td>-0.003620</td>\n",
       "      <td>0.001129</td>\n",
       "      <td>0.007749</td>\n",
       "      <td>0.000507</td>\n",
       "      <td>0.001253</td>\n",
       "      <td>-0.001135</td>\n",
       "      <td>-0.000059</td>\n",
       "      <td>0.274698</td>\n",
       "    </tr>\n",
       "    <tr>\n",
       "      <th>C32H19N1O3S1</th>\n",
       "      <td>0.003664</td>\n",
       "      <td>0.010995</td>\n",
       "      <td>0.017641</td>\n",
       "      <td>-0.006050</td>\n",
       "      <td>-0.004221</td>\n",
       "      <td>-0.022248</td>\n",
       "      <td>-0.006166</td>\n",
       "      <td>-0.019605</td>\n",
       "      <td>0.003907</td>\n",
       "      <td>0.006321</td>\n",
       "      <td>-0.000211</td>\n",
       "      <td>-0.000197</td>\n",
       "      <td>-0.002797</td>\n",
       "      <td>-0.002493</td>\n",
       "      <td>0.000539</td>\n",
       "      <td>-0.050771</td>\n",
       "    </tr>\n",
       "    <tr>\n",
       "      <th>C18H32O18</th>\n",
       "      <td>-0.000954</td>\n",
       "      <td>-0.013318</td>\n",
       "      <td>0.004069</td>\n",
       "      <td>-0.010942</td>\n",
       "      <td>-0.018300</td>\n",
       "      <td>0.031812</td>\n",
       "      <td>-0.024866</td>\n",
       "      <td>-0.002573</td>\n",
       "      <td>-0.047339</td>\n",
       "      <td>0.030941</td>\n",
       "      <td>-0.028838</td>\n",
       "      <td>-0.025568</td>\n",
       "      <td>0.008911</td>\n",
       "      <td>-0.005661</td>\n",
       "      <td>-0.006985</td>\n",
       "      <td>-0.034781</td>\n",
       "    </tr>\n",
       "  </tbody>\n",
       "</table>\n",
       "</div>"
      ],
      "text/plain": [
       "                    0         1         2         3         4         5   \\\n",
       "C32H30O12     0.022433  0.005717  0.011945  0.000369 -0.013166 -0.023259   \n",
       "C40H44O17     0.000776  0.013164  0.008257 -0.001596 -0.017465 -0.013377   \n",
       "C22H26O4      0.009422 -0.004011 -0.010341  0.006649 -0.007426  0.009049   \n",
       "C32H19N1O3S1  0.003664  0.010995  0.017641 -0.006050 -0.004221 -0.022248   \n",
       "C18H32O18    -0.000954 -0.013318  0.004069 -0.010942 -0.018300  0.031812   \n",
       "\n",
       "                    6         7         8         9         10        11  \\\n",
       "C32H30O12    -0.004413 -0.008883  0.006541  0.005953  0.001328 -0.001978   \n",
       "C40H44O17    -0.004615 -0.006924  0.003304  0.003840  0.000591  0.002866   \n",
       "C22H26O4     -0.010284 -0.023070 -0.003620  0.001129  0.007749  0.000507   \n",
       "C32H19N1O3S1 -0.006166 -0.019605  0.003907  0.006321 -0.000211 -0.000197   \n",
       "C18H32O18    -0.024866 -0.002573 -0.047339  0.030941 -0.028838 -0.025568   \n",
       "\n",
       "                    12        13        14        15  \n",
       "C32H30O12    -0.001965 -0.001940  0.000055 -0.190090  \n",
       "C40H44O17    -0.003530 -0.002824  0.001170 -0.314236  \n",
       "C22H26O4      0.001253 -0.001135 -0.000059  0.274698  \n",
       "C32H19N1O3S1 -0.002797 -0.002493  0.000539 -0.050771  \n",
       "C18H32O18     0.008911 -0.005661 -0.006985 -0.034781  "
      ]
     },
     "execution_count": 11,
     "metadata": {},
     "output_type": "execute_result"
    }
   ],
   "source": [
    "formula = list(fordination.columns) #extract the column headers from the ordination matrix \n",
    "loadings = pca.components_.T #extract the loadings of the formula \n",
    "loadingDF= pd.DataFrame(loadings,formula) #this constructs a dataframe with the formula as rows and the loadings for the four principal components as columns\n",
    "loadingDF.head()"
   ]
  },
  {
   "cell_type": "markdown",
   "metadata": {},
   "source": [
    "* 1.8: Now we have to visualise our loadings. There are many ways we can do this and it's a great place to get creative. Functions in the formula, plotting and diversity packages in PyKrev can help. Below I have defined functions to create : \n",
    "\n",
    "  * a loading plot that recreates a mass spectrum with the contribution of masses to the PCs using ```mass_loading_plot```.\n",
    "  * a loading plot that shows the sum contribution of compound classes to the PCs using ```cclass_loading_plot```.\n",
    "  * a loading plot that shows the sum contribution of oxygen classes to the PCs using ```oxygen_loading_plot```.\n"
   ]
  },
  {
   "cell_type": "code",
   "execution_count": 12,
   "metadata": {},
   "outputs": [],
   "source": [
    "def mass_loading_plot(loadingDF):\n",
    "    \"\"\"This function takes a loading dataframe and plots the loadings of the first 2 PCs against mass\"\"\"\n",
    "    formula = list(loadingDF.index)\n",
    "    mass = pk.calculate_mass(formula)\n",
    "    #need to sort masses and loadings from low to high\n",
    "    PC1Loading = [y for _,y,_ in sorted(zip(mass,loadingDF.iloc[:,0], loadingDF.iloc[:,1]))]\n",
    "    PC2Loading = [z for _,_,z in sorted(zip(mass,loadingDF.iloc[:,0], loadingDF.iloc[:,0]))]\n",
    "    mass = [x for x,_,_ in sorted(zip(mass,loadingDF.iloc[:,0], loadingDF.iloc[:,0]))]\n",
    "    plt.plot(mass, loadingDF.iloc[:,0], color = 'blue', linewidth = 0.8)\n",
    "    plt.plot(mass, loadingDF.iloc[:,1], color = 'orange', linewidth = 0.8)\n",
    "    plt.xlabel('Monoisotopic atomic mass')\n",
    "    plt.ylabel('Loading')\n",
    "    plt.legend(['PC1','PC2'])\n",
    "    \n",
    "    return plt.gcf(), plt.gca()"
   ]
  },
  {
   "cell_type": "code",
   "execution_count": 13,
   "metadata": {},
   "outputs": [],
   "source": [
    "def cclass_loading_plot(loadingDF):\n",
    "    \"\"\"This function takes a loading dataframe and plots a bar chart of compound class \n",
    "        with the sum loadings of the first 2 PCs \"\"\"\n",
    "    formula = list(loadingDF.index)\n",
    "    msTuple = pk.msTuple(formula, [], [])\n",
    "    #perform compound class assignment using the formularity assignment rules\n",
    "    assignments, counts = pk.compound_class(msTuple, method = 'FORM')\n",
    "    #make a dictionary to store the sum of the loading values per compound class inside \n",
    "    # for PC1\n",
    "    compoundPC1 = dict()\n",
    "    # initialise dictionary with 0 values\n",
    "    for i in range(0,len(loadingDF.index)):\n",
    "        compoundPC1[assignments[i]] = 0 \n",
    "    # sum the assignment values \n",
    "    for i in range(0,len(loadingDF.index)):\n",
    "        compoundPC1[assignments[i]] += loadingDF.iloc[i,0]\n",
    "    # sort the compound classes dictionaries alphabetically (ordered dicts possible in >Python 3.7)\n",
    "    sortedPC1 = dict()\n",
    "    for s in sorted(compoundPC1):\n",
    "        sortedPC1[s] = compoundPC1[s]\n",
    "    # for PC2 \n",
    "    compoundPC2 = dict()\n",
    "    for i in range(0,len(loadingDF.index)):\n",
    "        compoundPC2[assignments[i]] = 0 \n",
    "    for i in range(0,len(loadingDF.index)):\n",
    "        compoundPC2[assignments[i]] += loadingDF.iloc[i,1]\n",
    "    sortedPC2 = dict()\n",
    "    for s in sorted(compoundPC2):\n",
    "        sortedPC2[s] = compoundPC2[s]\n",
    "    # extract the values to plot on the y axis\n",
    "    y1 = np.array(list(sortedPC1.values()))\n",
    "    y2 = np.array(list(sortedPC2.values()))\n",
    "    # create a number line for the x axis, \n",
    "    #adequately spaced to allow side by side bars for PC1 and PC2\n",
    "    xrange = np.arange(0,len(y1)*3,3)\n",
    "    plt.bar(xrange,y1)\n",
    "    plt.bar(xrange+.8,y2)\n",
    "    plt.legend(['PC1','PC2'])\n",
    "    plt.axhline(0, color='k', linestyle = '--', alpha = 0.5)\n",
    "    #Include xticks \n",
    "    plt.xticks(xrange,list(sortedPC1.keys()), rotation= 'vertical')\n",
    "    plt.xlabel('Compound class')\n",
    "    plt.ylabel('Sum loadings')\n",
    "    # return the range of the x-axis (so we can set custom x ticks if needed)\n",
    "    return plt.gcf(), plt.gca(), xrange"
   ]
  },
  {
   "cell_type": "code",
   "execution_count": 14,
   "metadata": {},
   "outputs": [],
   "source": [
    "def oxygen_loading_plot(loadingDF):\n",
    "    \"\"\"This function takes a loading dataframe and plots a bar chart of oxygen class \n",
    "        with the sum loadings of the first 2 PCs \"\"\"\n",
    "    formula = list(loadingDF.index)\n",
    "    msTuple = pk.msTuple(formula, [], [])\n",
    "    #perform oxygen class assignment using element counts \n",
    "    oxygen_counts = [o['O'] for o in pk.element_counts(msTuple)]\n",
    "    #make a dictionary to store the sum of the loading values per compound class inside \n",
    "    # for PC1\n",
    "    oxygenPC1 = dict()\n",
    "    # initialise dictionary with 0 values\n",
    "    for i in range(0,len(loadingDF.index)):\n",
    "        oxygenPC1[oxygen_counts[i]] = 0 \n",
    "    # sum the assignment values \n",
    "    for i in range(0,len(loadingDF.index)):\n",
    "        oxygenPC1[oxygen_counts[i]] += loadingDF.iloc[i,0]\n",
    "    # sort the oxygen class dictionaries numerically (ordered dicts possible in >Python 3.7)\n",
    "    sortedPC1 = dict()\n",
    "    for s in sorted(oxygenPC1):\n",
    "        sortedPC1[s] = oxygenPC1[s]\n",
    "    # for PC2 \n",
    "    oxygenPC2 = dict()\n",
    "    for i in range(0,len(loadingDF.index)):\n",
    "        oxygenPC2[oxygen_counts[i]] = 0 \n",
    "    for i in range(0,len(loadingDF.index)):\n",
    "        oxygenPC2[oxygen_counts[i]] += loadingDF.iloc[i,1]\n",
    "    sortedPC2 = dict()\n",
    "    for s in sorted(oxygenPC2):\n",
    "        sortedPC2[s] = oxygenPC2[s]\n",
    "    # extract the values to plot on the y axis\n",
    "    y1 = np.array(list(sortedPC1.values()))\n",
    "    y2 = np.array(list(sortedPC2.values()))\n",
    "    # create a number line for the x axis, \n",
    "    #adequately spaced to allow side by side bars for PC1 and PC2\n",
    "    xrange = np.arange(0,len(y1)*3,3)\n",
    "    plt.bar(xrange,y1)\n",
    "    plt.bar(xrange+.8,y2)\n",
    "    plt.legend(['PC1','PC2'])\n",
    "    plt.axhline(0, color='k', linestyle = '--', alpha = 0.5)\n",
    "    #Include xticks \n",
    "    plt.xticks(xrange,list(sortedPC1.keys()), rotation= 'vertical')\n",
    "    plt.xlabel('Oxygen class')\n",
    "    plt.ylabel('Sum loadings')\n",
    "    # return the range of the x-axis (so we can set custom x ticks if needed)\n",
    "    return plt.gcf(), plt.gca(), xrange"
   ]
  },
  {
   "cell_type": "markdown",
   "metadata": {},
   "source": [
    "* 1.9: In each case I like to plot the positions of the samples on the first two principal components next to the loading plot to make analysing the plots easier. This is possible using ```plt.subplots``` to create panelled figures. \n"
   ]
  },
  {
   "cell_type": "code",
   "execution_count": 15,
   "metadata": {},
   "outputs": [],
   "source": [
    "# First we want to create random x coordinates for the PC1 and PC2 points\n",
    "randomx = np.array([])\n",
    "for i in range(0,16):\n",
    "    ## the np.random function shudders the x coordinates of the points, which is necessary to prevent overlap\n",
    "    randomx = np.append(randomx,np.random.uniform(-.1,.1, 1))\n",
    " \n",
    "# The following variables will be shared by all the loading plots\n",
    "varExplained = pca.explained_variance_ratio_ #variance explained in your PCA results\n",
    "sample_name = ['W1','W2','W3','W4'] * 4 \n",
    "whisky_type = ['ESI'] * 4 + ['LDI'] * 4 + ['APCI'] * 4 + ['APPI'] * 4\n",
    "group_colours = ['#a6cee3'] * 4 + ['#1f78b4'] * 4 + ['#b2df8a'] * 4 + ['#33a02c'] * 4\n",
    "\n",
    "legend_elements = [Line2D([0], [0], marker='o', color='w', label='ESI',\n",
    "                          markerfacecolor='#a6cee3', markersize=8),\n",
    "                   Line2D([0], [0], marker='o', color='w', label='LDI',\n",
    "                          markerfacecolor='#1f78b4', markersize=8),\n",
    "                   Line2D([0], [0], marker='o', color='w', label='APCI',\n",
    "                          markerfacecolor='#b2df8a', markersize=8),\n",
    "                   Line2D([0], [0], marker='o', color='w', label='APPI',\n",
    "                          markerfacecolor='#33a02c', markersize=8)]"
   ]
  },
  {
   "cell_type": "code",
   "execution_count": 16,
   "metadata": {},
   "outputs": [
    {
     "data": {
      "image/png": "[encoded data removed]",
      "text/plain": [
       "<Figure size 720x288 with 3 Axes>"
      ]
     },
     "metadata": {
      "needs_background": "light"
     },
     "output_type": "display_data"
    }
   ],
   "source": [
    "## MASS LOADINGS \n",
    "plt.figure(figsize=(10, 4)) # create the overall figure\n",
    "plt.subplot(1,4,(1,2)) #take the first two panels of the subplot for the loading plot\n",
    "mass_loading_plot(loadingDF)\n",
    "plt.xlim(200,700)\n",
    "plt.ylim(-.1,.1) # centre the y axis\n",
    "plt.xlabel('Average atomic mass (Da)')\n",
    "plt.subplot(1,4,3) #take the third panel for the PC1 plot\n",
    "for i in range(0,16):\n",
    "    plt.text(randomx[i], pca_result[i,0], s = sample_name[i], color = group_colours[i])\n",
    "plt.title(f'PC1 ({str(varExplained[0]*100)[:4]}%)') #include the % variance explained in the label\n",
    "plt.ylim(-5,5)\n",
    "plt.xlim(-.15,.15)\n",
    "plt.xticks([])\n",
    "plt.yticks([])\n",
    "plt.axhline(0, color='k', linestyle = '--', alpha = 0.5)\n",
    "plt.subplot(1,4,4) #take the final panel for the PC2 plot\n",
    "for i in range(0,16):\n",
    "        plt.text(randomx[i],pca_result[i,1],s = sample_name[i], color = group_colours[i])\n",
    "plt.title(f'PC2 ({str(varExplained[1]*100)[:4]}%)')\n",
    "plt.ylim(-5,5)\n",
    "plt.xlim(-.15,.15)\n",
    "plt.xticks([])\n",
    "plt.yticks([])\n",
    "plt.axhline(0, color='k', linestyle = '--', alpha = 0.5)                 \n",
    "plt.legend(handles = legend_elements, loc = 'lower right')\n",
    "plt.tight_layout()\n",
    "plt.show()"
   ]
  },
  {
   "cell_type": "code",
   "execution_count": 17,
   "metadata": {},
   "outputs": [
    {
     "data": {
      "image/png": "[encoded data removed]",
      "text/plain": [
       "<Figure size 720x288 with 3 Axes>"
      ]
     },
     "metadata": {
      "needs_background": "light"
     },
     "output_type": "display_data"
    }
   ],
   "source": [
    "## COMPOUND CLASS LOADINGS \n",
    "## Important!! If you are copying this code, first check the order of your xticks before manually setting them\n",
    "custom_classes = ['Amino\\nSugar','Carb','Con\\nHC','Lignin','Lipid','NA','Protein','Tannin','Unsat\\nHC']\n",
    "plt.figure(figsize=(10, 4)) # create the overall figure\n",
    "plt.subplot(1,4,(1,2)) #take two panels of the subplot for the loading plot\n",
    "fig, ax, xrange = cclass_loading_plot(loadingDF)\n",
    "plt.ylim(-24,24) #centre the y axis\n",
    "## Important!! If you are copying this code, first check the order of your xticks before manually setting them\n",
    "plt.xticks(xrange,custom_classes, rotation = 'horizontal') #Set custom xticks to save space\n",
    "plt.subplot(1,4,3) #take the third panel for the PC1 plot\n",
    "for i in range(0,16):\n",
    "    ## the np.random function shudders the x coordinates of the points, which is necessary to prevent overlap\n",
    "    plt.text(randomx[i],pca_result[i,0],s = sample_name[i],color = group_colours[i])\n",
    "plt.title(f'PC1 ({str(varExplained[0]*100)[:4]}%)') #include the % variance explained in the \n",
    "plt.ylim(-5,5)\n",
    "plt.xlim(-.15,.15)\n",
    "plt.xticks([])\n",
    "plt.yticks([])\n",
    "plt.axhline(0, color='k', linestyle = '--', alpha = 0.5)\n",
    "plt.subplot(1,4,4) #take the final panel for the PC2 plot\n",
    "for i in range(0,16):\n",
    "        plt.text(randomx[i],pca_result[i,1],s = sample_name[i],color = group_colours[i])\n",
    "plt.title(f'PC2 ({str(varExplained[1]*100)[:4]}%)')\n",
    "plt.ylim(-5,5)\n",
    "plt.xlim(-.15,.15)\n",
    "plt.xticks([])\n",
    "plt.yticks([])\n",
    "plt.axhline(0, color='k', linestyle = '--', alpha = 0.5)             \n",
    "plt.legend(handles = legend_elements, loc = 'lower right')\n",
    "plt.tight_layout()\n",
    "plt.show()"
   ]
  },
  {
   "cell_type": "code",
   "execution_count": 18,
   "metadata": {},
   "outputs": [
    {
     "data": {
      "image/png": "[encoded data removed]",
      "text/plain": [
       "<Figure size 720x288 with 3 Axes>"
      ]
     },
     "metadata": {
      "needs_background": "light"
     },
     "output_type": "display_data"
    }
   ],
   "source": [
    "## OXYGEN CLASS LOADINGS \n",
    "plt.figure(figsize=(10, 4)) # create the overall figure\n",
    "plt.subplot(1,4,(1,2)) #take two panels of the subplot for the loading plot\n",
    "oxygen_loading_plot(loadingDF)\n",
    "plt.ylim(-5,5) #centre the y axis\n",
    "plt.subplot(1,4,3) #take the third panel for the PC1 plot\n",
    "for i in range(0,16):\n",
    "    plt.text(randomx[i],pca_result[i,0],s = sample_name[i],color = group_colours[i])\n",
    "plt.title(f'PC1 ({str(varExplained[0]*100)[:4]}%)')\n",
    "plt.ylim(-5,5)\n",
    "plt.xlim(-.15,.15)\n",
    "plt.xticks([])\n",
    "plt.yticks([])\n",
    "plt.axhline(0, color='k', linestyle = '--', alpha = 0.5)\n",
    "plt.subplot(1,4,4) #take the final panel for the PC2 plot\n",
    "for i in range(0,16):\n",
    "        plt.text(randomx[i],pca_result[i,1],s = sample_name[i],color = group_colours[i])\n",
    "plt.title(f'PC2 ({str(varExplained[1]*100)[:4]}%)')\n",
    "plt.ylim(-5,5)\n",
    "plt.xlim(-.15,.15)\n",
    "plt.xticks([])\n",
    "plt.yticks([])\n",
    "plt.axhline(0, color='k', linestyle = '--', alpha = 0.5)              \n",
    "plt.legend(handles = legend_elements, loc = 'lower right')\n",
    "plt.tight_layout()\n",
    "plt.show()"
   ]
  },
  {
   "cell_type": "markdown",
   "metadata": {},
   "source": [
    "**That's the end of the guide.** Hopefully you are now more comfortable using sklearn and PyKrev to perform dimensionality reduction on your FT-MS data and interpret the results. One of the main advantages of doing your data analysis in Python is being able to use the powerful machine learning libraries Python has to offer. sklearn has many capabilities beyond PCA - ... discriminant analysis, k-means clustering, neural networks, random forest classifiers and  support vector machines to name just a few -  that will enable you to ask new and interesting questions with your data."
   ]
  }
 ],
 "metadata": {
  "kernelspec": {
   "display_name": "Python 3.9.1 64-bit",
   "language": "python",
   "name": "python3"
  },
  "language_info": {
   "codemirror_mode": {
    "name": "ipython",
    "version": 3
   },
   "file_extension": ".py",
   "mimetype": "text/x-python",
   "name": "python",
   "nbconvert_exporter": "python",
   "pygments_lexer": "ipython3",
   "version": "3.9.1"
  },
  "vscode": {
   "interpreter": {
    "hash": "01f5937e49ee02390a69602367eeeaf3fadcd615033b46f6152afd85cddc8392"
   }
  }
 },
 "nbformat": 4,
 "nbformat_minor": 4
}
