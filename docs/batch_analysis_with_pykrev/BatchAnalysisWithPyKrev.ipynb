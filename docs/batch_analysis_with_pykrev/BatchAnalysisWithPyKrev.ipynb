{
 "cells": [
  {
   "cell_type": "markdown",
   "metadata": {},
   "source": [
    "# Batch Analysis with Pykrev\n",
    "\n",
    "In this tutorial we will look at how to analyse many spectra at once with PyKrev. The spectra we will look at were acquired on a 12T Bruker Solarix. \n",
    "There are 18 spectra in total, comprising triplicate dissolved organic matter samples at three depths extracted using two methods, Rhizon sampler or squeezing. (3 * 3 * 2 = 18).\n",
    "They were processed using corems and each spectrum was written to an individual .csv file. "
   ]
  },
  {
   "cell_type": "code",
   "execution_count": 1,
   "metadata": {},
   "outputs": [],
   "source": [
    "# First import the libraries that we need. \n",
    "import pykrev as pk\n",
    "import numpy as np\n",
    "from matplotlib import pyplot as plt\n",
    "import pandas as pd\n",
    "import os\n",
    "import seaborn as sns"
   ]
  },
  {
   "cell_type": "code",
   "execution_count": 2,
   "metadata": {},
   "outputs": [],
   "source": [
    "#change to the data directory , run only once\n",
    "os.chdir('../example_data/batch_analysis')"
   ]
  },
  {
   "cell_type": "code",
   "execution_count": 3,
   "metadata": {},
   "outputs": [],
   "source": [
    "#save the sample names and sample paths as a list\n",
    "sampleNames = [f.split('.')[0] for f in os.listdir() if f.endswith('csv') and 'PW' in f]\n",
    "samplePaths = [f for f in os.listdir() if f.endswith('csv') and 'PW' in f]"
   ]
  },
  {
   "cell_type": "markdown",
   "metadata": {},
   "source": [
    "The core data structure for batch analysis is the msTupleDict. This is a dictionary with spectrum names as keys and corresponding msTuples as values. Below we read each spectrum using pk.read_corems into an msTuple and store that tuple in msTupleDict."
   ]
  },
  {
   "cell_type": "code",
   "execution_count": 4,
   "metadata": {},
   "outputs": [],
   "source": [
    "analysisDict = pk.msTupleDict()"
   ]
  },
  {
   "cell_type": "code",
   "execution_count": 5,
   "metadata": {},
   "outputs": [],
   "source": [
    "for name,path in zip(sampleNames,samplePaths):\n",
    "    corems = pd.read_csv(path)\n",
    "    analysisDict[name] = pk.read_corems(corems)"
   ]
  },
  {
   "cell_type": "markdown",
   "metadata": {},
   "source": [
    "msTupleDicts have a variety of inbuilt methods. .summary() allows you to view a summary of the contents of the msTupleDict"
   ]
  },
  {
   "cell_type": "code",
   "execution_count": 6,
   "metadata": {},
   "outputs": [
    {
     "name": "stdout",
     "output_type": "stream",
     "text": [
      "msTupleDict containing 18 samples.\n",
      "\n",
      "10_PW1_i summary\n",
      "********************\n",
      "assigned formula = 3079 \n",
      "min intensity = 3569763.28658487\n",
      "max intensity = 5350103014.950329\n",
      "mean mz = 358.3093426023937 \n",
      "std mz = 104.67467242923537 \n",
      "\n",
      "10_PW1_ii summary\n",
      "********************\n",
      "assigned formula = 2998 \n",
      "min intensity = 3648842.079736115\n",
      "max intensity = 5836389120.326646\n",
      "mean mz = 355.4160268374991 \n",
      "std mz = 103.28171620872808 \n",
      "\n",
      "10_PW1_iii summary\n",
      "********************\n",
      "assigned formula = 2902 \n",
      "min intensity = 3745454.447284562\n",
      "max intensity = 5936072767.616936\n",
      "mean mz = 353.74477039756374 \n",
      "std mz = 102.54684020686507 \n",
      "\n",
      "10_PW2_i summary\n",
      "********************\n",
      "assigned formula = 2784 \n",
      "min intensity = 3720046.174092365\n",
      "max intensity = 8260345773.152048\n",
      "mean mz = 351.8640426724465 \n",
      "std mz = 102.70176541261411 \n",
      "\n",
      "10_PW2_ii summary\n",
      "********************\n",
      "assigned formula = 2595 \n",
      "min intensity = 4116506.050797925\n",
      "max intensity = 8985212571.823792\n",
      "mean mz = 349.1171574189941 \n",
      "std mz = 101.26277546402574 \n",
      "\n",
      "10_PW2_iii summary\n",
      "********************\n",
      "assigned formula = 2686 \n",
      "min intensity = 3993211.728729286\n",
      "max intensity = 8963904255.732944\n",
      "mean mz = 350.41980567605805 \n",
      "std mz = 102.25418469418871 \n",
      "\n",
      "20_PW1_i summary\n",
      "********************\n",
      "assigned formula = 3468 \n",
      "min intensity = 2566035.708734254\n",
      "max intensity = 3960416964.38995\n",
      "mean mz = 379.19455229455576 \n",
      "std mz = 112.63046123441134 \n",
      "\n",
      "20_PW1_ii summary\n",
      "********************\n",
      "assigned formula = 3432 \n",
      "min intensity = 2205685.574729497\n",
      "max intensity = 3593177726.8964343\n",
      "mean mz = 374.4557609206889 \n",
      "std mz = 111.58246647170976 \n",
      "\n",
      "20_PW1_iii summary\n",
      "********************\n",
      "assigned formula = 3404 \n",
      "min intensity = 2230005.726623145\n",
      "max intensity = 3683118206.666528\n",
      "mean mz = 375.80268918933336 \n",
      "std mz = 112.63866510840694 \n",
      "\n",
      "20_PW2_i summary\n",
      "********************\n",
      "assigned formula = 4195 \n",
      "min intensity = 1980606.3258632137\n",
      "max intensity = 3106428784.439844\n",
      "mean mz = 408.9133933433615 \n",
      "std mz = 130.76919768628295 \n",
      "\n",
      "20_PW2_ii summary\n",
      "********************\n",
      "assigned formula = 3360 \n",
      "min intensity = 2498174.304882592\n",
      "max intensity = 3105263842.1366696\n",
      "mean mz = 402.412930342534 \n",
      "std mz = 127.51917760675651 \n",
      "\n",
      "20_PW2_iii summary\n",
      "********************\n",
      "assigned formula = 3535 \n",
      "min intensity = 2398645.621120079\n",
      "max intensity = 3099565292.308622\n",
      "mean mz = 406.24168176702375 \n",
      "std mz = 129.8650459897039 \n",
      "\n",
      "45_PW1_i summary\n",
      "********************\n",
      "assigned formula = 2089 \n",
      "min intensity = 3446759.498040957\n",
      "max intensity = 16918190854.075706\n",
      "mean mz = 396.1901254563304 \n",
      "std mz = 127.7847076772589 \n",
      "\n",
      "45_PW1_ii summary\n",
      "********************\n",
      "assigned formula = 1175 \n",
      "min intensity = 4775230.178499628\n",
      "max intensity = 23663663721.296963\n",
      "mean mz = 370.06289377391556 \n",
      "std mz = 112.300510812254 \n",
      "\n",
      "45_PW1_iii summary\n",
      "********************\n",
      "assigned formula = 1843 \n",
      "min intensity = 3400093.94447114\n",
      "max intensity = 6043725035.464887\n",
      "mean mz = 393.50563747115064 \n",
      "std mz = 135.69941143426422 \n",
      "\n",
      "45_PW2_i summary\n",
      "********************\n",
      "assigned formula = 2278 \n",
      "min intensity = 2926772.382069533\n",
      "max intensity = 6411954424.062243\n",
      "mean mz = 426.6253446261963 \n",
      "std mz = 143.85181921747224 \n",
      "\n",
      "45_PW2_ii summary\n",
      "********************\n",
      "assigned formula = 3724 \n",
      "min intensity = 1826435.54993418\n",
      "max intensity = 5436139589.343372\n",
      "mean mz = 437.1732976337822 \n",
      "std mz = 145.95627273168594 \n",
      "\n",
      "45_PW2_iii summary\n",
      "********************\n",
      "assigned formula = 2118 \n",
      "min intensity = 3347699.7904973067\n",
      "max intensity = 7232382049.598134\n",
      "mean mz = 412.0112164430387 \n",
      "std mz = 137.06264547402225 \n",
      "\n"
     ]
    }
   ],
   "source": [
    "analysisDict.summary()"
   ]
  },
  {
   "cell_type": "markdown",
   "metadata": {},
   "source": [
    "Another important inbuilt method is to_DataFrame() this writes the contents of the msTuple into a pandas dataframe that can be used as the basis for batch analysis"
   ]
  },
  {
   "cell_type": "code",
   "execution_count": 7,
   "metadata": {},
   "outputs": [
    {
     "data": {
      "text/html": [
       "<div>\n",
       "<style scoped>\n",
       "    .dataframe tbody tr th:only-of-type {\n",
       "        vertical-align: middle;\n",
       "    }\n",
       "\n",
       "    .dataframe tbody tr th {\n",
       "        vertical-align: top;\n",
       "    }\n",
       "\n",
       "    .dataframe thead th {\n",
       "        text-align: right;\n",
       "    }\n",
       "</style>\n",
       "<table border=\"1\" class=\"dataframe\">\n",
       "  <thead>\n",
       "    <tr style=\"text-align: right;\">\n",
       "      <th></th>\n",
       "      <th>assigned formula</th>\n",
       "      <th>mean mz</th>\n",
       "      <th>std mz</th>\n",
       "    </tr>\n",
       "  </thead>\n",
       "  <tbody>\n",
       "    <tr>\n",
       "      <th>10_PW1_i</th>\n",
       "      <td>3079.0</td>\n",
       "      <td>358.309343</td>\n",
       "      <td>104.674672</td>\n",
       "    </tr>\n",
       "    <tr>\n",
       "      <th>10_PW1_ii</th>\n",
       "      <td>2998.0</td>\n",
       "      <td>355.416027</td>\n",
       "      <td>103.281716</td>\n",
       "    </tr>\n",
       "    <tr>\n",
       "      <th>10_PW1_iii</th>\n",
       "      <td>2902.0</td>\n",
       "      <td>353.744770</td>\n",
       "      <td>102.546840</td>\n",
       "    </tr>\n",
       "    <tr>\n",
       "      <th>10_PW2_i</th>\n",
       "      <td>2784.0</td>\n",
       "      <td>351.864043</td>\n",
       "      <td>102.701765</td>\n",
       "    </tr>\n",
       "    <tr>\n",
       "      <th>10_PW2_ii</th>\n",
       "      <td>2595.0</td>\n",
       "      <td>349.117157</td>\n",
       "      <td>101.262775</td>\n",
       "    </tr>\n",
       "  </tbody>\n",
       "</table>\n",
       "</div>"
      ],
      "text/plain": [
       "            assigned formula     mean mz      std mz\n",
       "10_PW1_i              3079.0  358.309343  104.674672\n",
       "10_PW1_ii             2998.0  355.416027  103.281716\n",
       "10_PW1_iii            2902.0  353.744770  102.546840\n",
       "10_PW2_i              2784.0  351.864043  102.701765\n",
       "10_PW2_ii             2595.0  349.117157  101.262775"
      ]
     },
     "execution_count": 7,
     "metadata": {},
     "output_type": "execute_result"
    }
   ],
   "source": [
    "analysisDf = analysisDict.to_DataFrame()\n",
    "analysisDf.head()"
   ]
  },
  {
   "cell_type": "markdown",
   "metadata": {},
   "source": [
    "As it stands the analysis dataframe doesn't present a lot of options for analysis. We can change this by adding in more columns. To begin with we can add important sample metadata. "
   ]
  },
  {
   "cell_type": "code",
   "execution_count": 8,
   "metadata": {},
   "outputs": [],
   "source": [
    "#Add sample metadata\n",
    "extraction = []\n",
    "depths = []\n",
    "for name in sampleNames:\n",
    "    depth = name.split('_')[0]\n",
    "    depths.append(int(depth))\n",
    "    if 'PW1' in name:\n",
    "        extraction.append('Rhizon')\n",
    "    elif 'PW2' in name:\n",
    "        extraction.append('Squeeze')\n",
    "\n",
    "analysisDf['depth'] = pd.Categorical(depths)\n",
    "analysisDf['extraction'] = pd.Categorical(extraction)"
   ]
  },
  {
   "cell_type": "code",
   "execution_count": 9,
   "metadata": {},
   "outputs": [
    {
     "name": "stdout",
     "output_type": "stream",
     "text": [
      "<class 'pandas.core.frame.DataFrame'>\n",
      "Index: 18 entries, 10_PW1_i to 45_PW2_iii\n",
      "Data columns (total 5 columns):\n",
      " #   Column            Non-Null Count  Dtype   \n",
      "---  ------            --------------  -----   \n",
      " 0   assigned formula  18 non-null     float64 \n",
      " 1   mean mz           18 non-null     float64 \n",
      " 2   std mz            18 non-null     float64 \n",
      " 3   depth             18 non-null     category\n",
      " 4   extraction        18 non-null     category\n",
      "dtypes: category(2), float64(3)\n",
      "memory usage: 1.4+ KB\n"
     ]
    }
   ],
   "source": [
    "analysisDf.info()"
   ]
  },
  {
   "cell_type": "markdown",
   "metadata": {},
   "source": [
    "Now we can add in useful information such as mean element counts and diversity metrics."
   ]
  },
  {
   "cell_type": "code",
   "execution_count": 10,
   "metadata": {},
   "outputs": [],
   "source": [
    "#Add information about mean element counts\n",
    "C = []\n",
    "H = []\n",
    "N = []\n",
    "O = []\n",
    "intense = []\n",
    "stdIntensity = []\n",
    "for name in sampleNames:\n",
    "    msTuple = analysisDict[name]\n",
    "    elementDict = pk.element_counts(msTuple)\n",
    "    elementData = pd.DataFrame(elementDict)\n",
    "    C.append(np.mean(elementData['C']))\n",
    "    H.append(np.mean(elementData['H']))\n",
    "    N.append(np.mean(elementData['N']))\n",
    "    O.append(np.mean(elementData['O']))\n",
    "\n",
    "analysisDf['mean C'] = C\n",
    "analysisDf['mean H'] = H\n",
    "analysisDf['mean N'] = N\n",
    "analysisDf['mean O'] = O\n"
   ]
  },
  {
   "cell_type": "code",
   "execution_count": 11,
   "metadata": {},
   "outputs": [],
   "source": [
    "#Add information about sample diversity\n",
    "simpson = []\n",
    "shannon = []\n",
    "for name in sampleNames:\n",
    "    sampleTuple  = analysisDict[name]\n",
    "    diversityDict = pk.diversity_indices(sampleTuple, verbose='False', indices = ['SW', 'GS'])\n",
    "    simpson.append(diversityDict['D_a_GS'])\n",
    "    shannon.append(diversityDict['D_a_SW'])\n",
    "analysisDf['simpson'] = simpson\n",
    "analysisDf['shannon'] = shannon"
   ]
  },
  {
   "cell_type": "markdown",
   "metadata": {},
   "source": [
    "We can then make plots comparing spectra using the seaborn python library."
   ]
  },
  {
   "cell_type": "code",
   "execution_count": 12,
   "metadata": {},
   "outputs": [
    {
     "data": {
      "image/png": "[encoded data removed]",
      "text/plain": [
       "<Figure size 438.5x360 with 1 Axes>"
      ]
     },
     "metadata": {
      "needs_background": "light"
     },
     "output_type": "display_data"
    }
   ],
   "source": [
    "ax = sns.catplot(x=\"depth\", y=\"assigned formula\", hue=\"extraction\", kind=\"bar\", data=analysisDf)"
   ]
  },
  {
   "cell_type": "code",
   "execution_count": 13,
   "metadata": {},
   "outputs": [
    {
     "data": {
      "image/png": "[encoded data removed]",
      "text/plain": [
       "<Figure size 438.5x360 with 1 Axes>"
      ]
     },
     "metadata": {
      "needs_background": "light"
     },
     "output_type": "display_data"
    }
   ],
   "source": [
    "ax = sns.catplot(x=\"depth\", y=\"mean mz\", hue=\"extraction\", kind=\"bar\", data=analysisDf)"
   ]
  },
  {
   "cell_type": "code",
   "execution_count": 14,
   "metadata": {},
   "outputs": [
    {
     "data": {
      "image/png": "[encoded data removed]",
      "text/plain": [
       "<Figure size 438.5x360 with 1 Axes>"
      ]
     },
     "metadata": {
      "needs_background": "light"
     },
     "output_type": "display_data"
    }
   ],
   "source": [
    "ax = sns.catplot(x=\"depth\", y=\"mean O\", hue=\"extraction\", kind=\"bar\", data=analysisDf)"
   ]
  },
  {
   "cell_type": "markdown",
   "metadata": {},
   "source": [
    "Another type of analysis we may want to do is ordination and PCA. This is made relatively simple using the .to_OrdinationMatrix method of the msTupleDict. If you want more indepth instructions for PCA analysis in PyKrev, see the additional tutorial."
   ]
  },
  {
   "cell_type": "code",
   "execution_count": 15,
   "metadata": {},
   "outputs": [],
   "source": [
    "OrdinationMatrix = analysisDict.to_OrdinationMatrix(impute_value = 0)"
   ]
  },
  {
   "cell_type": "code",
   "execution_count": 16,
   "metadata": {},
   "outputs": [],
   "source": [
    "NormMatrix = pk.normalise_intensity(OrdinationMatrix, norm_method = 'sum', norm_direction = 'rows') #row normalise by sum\n",
    "NormMatrix = pk.normalise_intensity(NormMatrix, norm_method = 'center', norm_transform = 'power3', norm_direction = 'columns') #column normalise by cube root transform and scaling"
   ]
  },
  {
   "cell_type": "code",
   "execution_count": 17,
   "metadata": {},
   "outputs": [],
   "source": [
    "from sklearn.decomposition import PCA"
   ]
  },
  {
   "cell_type": "code",
   "execution_count": 18,
   "metadata": {},
   "outputs": [],
   "source": [
    "pca = PCA() #instance of the PCA class, here we can define parameters about the PCA \n",
    "pca.fit(NormMatrix) #fit the PCA intialised with default parameters to our data\n",
    "pca_result = pca.transform(NormMatrix) # transform our data with the fitted model"
   ]
  },
  {
   "cell_type": "code",
   "execution_count": 19,
   "metadata": {},
   "outputs": [],
   "source": [
    "analysisDf['PC1'] = pca_result[:,0]\n",
    "analysisDf['PC2'] = pca_result[:,1]"
   ]
  },
  {
   "cell_type": "code",
   "execution_count": 20,
   "metadata": {},
   "outputs": [
    {
     "data": {
      "image/png": "[encoded data removed]",
      "text/plain": [
       "<Figure size 432x288 with 1 Axes>"
      ]
     },
     "metadata": {
      "needs_background": "light"
     },
     "output_type": "display_data"
    }
   ],
   "source": [
    "ax = sns.scatterplot(x=\"PC1\", y=\"PC2\", style = 'depth', hue=\"extraction\", data=analysisDf)"
   ]
  },
  {
   "cell_type": "markdown",
   "metadata": {},
   "source": [
    "In this example there are three technical replicates for each sample type. Using the msTupleDict.subset() and msTupleDict.average() methods it is possible to visualise the deviation between the replicates and produce an average msTuple."
   ]
  },
  {
   "cell_type": "code",
   "execution_count": 21,
   "metadata": {},
   "outputs": [
    {
     "name": "stdout",
     "output_type": "stream",
     "text": [
      "msTupleDict containing 3 samples.\n",
      "\n",
      "10_PW1_i summary\n",
      "********************\n",
      "assigned formula = 3079 \n",
      "min intensity = 3569763.28658487\n",
      "max intensity = 5350103014.950329\n",
      "mean mz = 358.3093426023937 \n",
      "std mz = 104.67467242923537 \n",
      "\n",
      "10_PW1_ii summary\n",
      "********************\n",
      "assigned formula = 2998 \n",
      "min intensity = 3648842.079736115\n",
      "max intensity = 5836389120.326646\n",
      "mean mz = 355.4160268374991 \n",
      "std mz = 103.28171620872808 \n",
      "\n",
      "10_PW1_iii summary\n",
      "********************\n",
      "assigned formula = 2902 \n",
      "min intensity = 3745454.447284562\n",
      "max intensity = 5936072767.616936\n",
      "mean mz = 353.74477039756374 \n",
      "std mz = 102.54684020686507 \n",
      "\n",
      "average summary\n",
      "********************\n",
      "assigned formula = 2982 \n",
      "min intensity = 3631720.718349987\n",
      "max intensity = 5707521634.29797\n",
      "mean mz = 355.66832813149034 \n",
      "std mz = 103.1515163714973 \n"
     ]
    },
    {
     "data": {
      "image/png": "[encoded data removed]",
      "text/plain": [
       "<Figure size 432x288 with 2 Axes>"
      ]
     },
     "metadata": {
      "needs_background": "light"
     },
     "output_type": "display_data"
    },
    {
     "data": {
      "image/png": "[encoded data removed]",
      "text/plain": [
       "<Figure size 432x288 with 2 Axes>"
      ]
     },
     "metadata": {
      "needs_background": "light"
     },
     "output_type": "display_data"
    }
   ],
   "source": [
    "#To extract replicates from the analysisDict, we first pass a list of the replicate names to msTupleDict.subset()\n",
    "replicateDict =  analysisDict.subset(subsetList=['10_PW1_i','10_PW1_ii','10_PW1_iii'])\n",
    "replicateDict.summary()\n",
    "#We can then average the spectra in the replicate dictionary using msTupleDict.average() for more info on this method see pk.average_mstuple\n",
    "## Passing stdDev= TRUE will report the standard deviations for the intensity and mass \n",
    "## Setting minOccurrence to 2 will only include formula present in at least two samples\n",
    "## Setting zeroValues to false will not include zero intensities in averaging\n",
    "averageTuple, stdStats = replicateDict.average(intensityMethod = 'mean', mzMethod= 'mean', stdDev = True, minOccurrence = 2, zeroValues = False)\n",
    "stdI = stdStats[0]\n",
    "stdMz = stdStats[1]\n",
    "print('average summary')\n",
    "print('********************')\n",
    "averageTuple.summary()\n",
    "#Finally we can view the deviation in mass and intensity in the samples using pk.mass_spectrum\n",
    "fig,ax1,ax2 = pk.mass_spectrum(averageTuple, invertedAxis = stdI, invertedAxisLabel = '$\\sigma$ Intensity', stepSize = 3)\n",
    "fig,ax1,ax2 = pk.mass_spectrum(averageTuple, invertedAxis = stdMz, invertedAxisLabel = '$\\sigma$ mz', invertedAxisColor = 'orange', stepSize= 3)\n"
   ]
  },
  {
   "cell_type": "markdown",
   "metadata": {},
   "source": [
    "That's the end of the batch analysis tutorial."
   ]
  }
 ],
 "metadata": {
  "interpreter": {
   "hash": "a09f1ac80425c4d2017a7796106a39e8e9567a60eae2049305b7d9427cd6176b"
  },
  "kernelspec": {
   "display_name": "Python 3",
   "language": "python",
   "name": "python3"
  },
  "language_info": {
   "codemirror_mode": {
    "name": "ipython",
    "version": 3
   },
   "file_extension": ".py",
   "mimetype": "text/x-python",
   "name": "python",
   "nbconvert_exporter": "python",
   "pygments_lexer": "ipython3",
   "version": "3.9.1"
  }
 },
 "nbformat": 4,
 "nbformat_minor": 4
}
