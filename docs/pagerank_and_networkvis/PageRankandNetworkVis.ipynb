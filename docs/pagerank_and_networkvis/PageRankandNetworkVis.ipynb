{
 "cells": [
  {
   "cell_type": "markdown",
   "metadata": {},
   "source": [
    "# PageRank and network visualisation on FT-ICR-MS data\n",
    "In this notebook we will perform network analysis on an FT-MS dataset. This involves creating a network in which the molecular formula present in a sample are the nodes, and the reactions that can happen between them on the connectors (i.e. edges in network terminology).\n",
    "\n",
    "Once we have created a theoretical network, we can perform analysis of the information flow in that network using Google's [PageRank](https://en.wikipedia.org/wiki/PageRank) algorithm and make a pretty visualisation of the network using open-source software such as [Cytoscape](https://cytoscape.org). We can also use the reverse PageRank algorithm to infer reaction probabilties from our network. \n",
    "\n",
    "This notebook will be divided in five parts.\n",
    "* Part 1: Network creation and PageRank.\n",
    "*  Part 2: Cytoscape visualisation of PageRank network.\n",
    "*  Part 3: PageRank with defined probabilities.\n",
    "*  Part 4: Reverse PageRank\n",
    "*  Part 5: Summary\n",
    "\n",
    "## Part 1: Network creation and PageRank\n",
    "\n",
    "PageRank was an algorithm developed at Stanford University by Larry Page and Sergey Brin in 1996 and used by Google in order to rank search engine results. The algorithm simulates what would happen to a hypothetical internet user who types in a random URL and then moves to other websites by clicking links. The internet user has an equal probability of clicking any link on a website. If the user gets to a website with no links, then they have an equal probability of visiting any website on the internet by typing in another random URL. The outcome of the algorithm is a ranking of webpages by the probability that the user is currently viewing them. The probability of each website is proportional to the total probability of the other websites which are linking to it. \n",
    "\n",
    "The algorithm employs a network in which websites are nodes and links to other websites are edges. A simple depiction of the PageRank network is shown below (Image Credit: Felipe Micaroni Lalli, license CC 2.5). In this depiction the faces are websites and the pointing hands are links. The size of each face corresponds to the probability returned by the PageRank algorithm. \n",
    "\n",
    "\n",
    "![Author: Felipe Micaroni Lalli](PageRank_Wiki.png \"Simple depiction of PageRank algorithm. Author: Felipe Micaroni Lalli, used under CC 2.5\")\n",
    "\n",
    "### PageRank and chemical networks\n",
    "\n",
    "This same principle can be applied to a chemical network in which nodes are molecules and edges are reactions. For example the node 'C6H10O7' links to 'C5H10O5' by a decarboxylation reaction (-CO2) and to 'C6H12O7' by a hydrogenation reaction (+H2). Theoretically, we can define whatever reactions we want as connectors between our nodes. In this notebook we will limit the reactions to (de)methylation +-CH3, (de)hydrogenation +-H2, (de)hydration +-H2O, oxidation +O, reduction -O and decarboxylation -CO2. \n",
    "\n",
    "Running the PageRank algorithm on a network set up in this way will give us the probability of a molecule in the network. Since we are working from empirical data, we know all the molecules in our network exist, so this probability can instead by interpreted as the most probable relative abundance of the molecule in our network. This is based on the assumption that (i) all reactions in our network are equally likely, (ii) the network is closed (only the formula that we have detected can be nodes), and (iii) the reactions in our network are constantly happening at a rate proportional to the node size.\n",
    "\n",
    "These assumptions are clearly not realistic, however analysis of information flow through a closed network formed by our data is still interesting and worth undertaking. Firstly, by altering the reactions we allow to occur, we can see how predicted abundances change and by comparing this to empirical abundance data rule out the existence of certain reactions. This is covered in Part 3: PageRank with defined probabilities. Taking this further, it is also possible to set PageRank up as an optimisation problem, in which we do not assume that all reactions are equally likely to happen, and instead optimise the probability of each reaction in our network so that the PageRank scores best match empirical relative abundance data. In this way we can use PageRank to learn about the reaction conditions in our system, this is explored in part 4: reverse PageRank.\n",
    "\n",
    "### The mathematics of PageRank\n",
    "\n",
    "A good explanation of the mathematics of PageRank can be found in Week 5 of the following free course: https://www.coursera.org/learn/linear-algebra-machine-learning\n",
    "\n",
    "Briefly, PageRank can be understood as a linear algebra problem in which we are trying to find the eigenvector of matrix $L$ with an eigenvalue of 1. \n",
    "Matrix L is a numerical depiction of our network with shape (N,N) in which N is the number of nodes in the network. \n",
    "\n",
    "$L$ has the form: \n",
    "\n",
    "$$ L = \\begin{bmatrix}\n",
    "L_{A→A} & L_{B→A} & L_{C→A} & L_{D→A} & L_{E→A} & L_{F→A} \\\\\n",
    "L_{A→B} & L_{B→B} & L_{C→B} & L_{D→B} & L_{E→B} & L_{F→B} \\\\\n",
    "L_{A→C} & L_{B→C} & L_{C→C} & L_{D→C} & L_{E→C} & L_{F→C} \\\\\n",
    "L_{A→D} & L_{B→D} & L_{C→D} & L_{D→D} & L_{E→D} & L_{F→D} \\\\\n",
    "L_{A→E} & L_{B→E} & L_{C→E} & L_{D→E} & L_{E→E} & L_{F→E} \\\\\n",
    "L_{A→F} & L_{B→F} & L_{C→F} & L_{D→F} & L_{E→F} & L_{F→F} \\\\\n",
    "\\end{bmatrix}\n",
    "$$\n",
    "\n",
    "In this example N = 6, and A,...,F are the identities of molecular formula in our sample.\n",
    "Each column represents the probability of a given formula reacting to form the other formulas, and sum to one. \n",
    "E.g. The first column is the probabilities of A reacting to form A,B,C,D,E,F. \n",
    "The rows determine how likely you are to arrive at a formula from any other, and do not need to sum to one. \n",
    "\n",
    "To find the eigenvector with an eigenvalue of one, we could do full eigen decompisition, but this is slow for large matrices and in this case we only care about the principal eigenvector. Instead we can use the [power iteration method](https://en.wikipedia.org/wiki/Power_iteration) in which we repeatedly multiply matrix $L$ by vector $r$ until $r$ converges on the principal eigenvector. \n",
    "\n",
    "In practice, we are going to make one further alteration to this algorithm to include a damping factor, $d$. This factor represents the probability that instead of a defined reaction occuring, one formula becomes any other formula in our system at random. If we set d == 0, this means that all information flow in our network is entirely random, and if d == 1, then only defined reactions occur. Why do this? It prevents inflation of the PageRank score for a formula in our network that does not link to any other formula. Without the damping factor, this formula will obtain a high page rank score as once a reaction forms it, there can be no further reactions in the network. Including the damping factor our new network matrix, $M$, looks like this: \n",
    "\n",
    "$$ M = d \\, L + \\frac{1-d}{N} \\, J $$\n",
    "\n",
    "Where $J$ is an N by N matrix of ones. \n",
    "\n",
    "This can be done in Pykrev using the function **page_rank**.\n",
    "\n",
    "In the following code we will run the PageRank algorithm on formula in a complex mixture taken from peat soil dissolved organic matter."
   ]
  },
  {
   "cell_type": "code",
   "execution_count": 1,
   "metadata": {},
   "outputs": [],
   "source": [
    "# First import the libraries we need\n",
    "import pandas as pd\n",
    "import numpy as np\n",
    "import numpy.linalg as la\n",
    "import pykrev as pk\n",
    "import random\n",
    "from matplotlib import pyplot as plt\n",
    "from scipy import stats\n",
    "%matplotlib inline\n",
    "import matplotlib\n",
    "matplotlib.rcParams['mathtext.fontset'] = 'stix'\n",
    "matplotlib.rcParams['font.family'] = 'STIXGeneral'"
   ]
  },
  {
   "cell_type": "code",
   "execution_count": 2,
   "metadata": {},
   "outputs": [],
   "source": [
    "# Read in an example dataset using read_corems\n",
    "dataset = pd.read_csv('..\\example_data\\corems_output.csv')\n",
    "msTuple = pk.read_corems(dataset)\n",
    "intensityArray = msTuple.intensity\n",
    "intensityNorm = pk.normalise_intensity(intensityArray)\n",
    "formulaList = msTuple.formula\n",
    "formulaMass = pk.calculate_mass(formulaList) # Compute the exact monoisotopic mass of each formula in the dataset\n",
    "N = len(formulaList)"
   ]
  },
  {
   "cell_type": "code",
   "execution_count": 3,
   "metadata": {},
   "outputs": [],
   "source": [
    "\"\"\"The reactions that can occur are defined below \"\"\"\n",
    "reactionDict = {\n",
    "## decarboxylation\n",
    "'decarboxylation': -pk.calculate_mass(['CO2']),\n",
    "## methylation \n",
    "'methylation': pk.calculate_mass(['CH2']),\n",
    "## demethylation \n",
    "'demethylation': -pk.calculate_mass(['CH2']),\n",
    "## hydrogenation\n",
    "'hydrogenation': pk.calculate_mass(['H2']),\n",
    "## dehydrogenation\n",
    "'dehydrogenation': -pk.calculate_mass(['H2']),\n",
    "## hydration \n",
    "'hydration': pk.calculate_mass(['H2O']),\n",
    "## dehydration \n",
    "'dehydration': -pk.calculate_mass(['H2O']),\n",
    "# oxidation \n",
    "'oxidation': pk.calculate_mass(['O']),\n",
    "# reduction\n",
    "'reduction': -pk.calculate_mass(['O'])\n",
    "}"
   ]
  },
  {
   "cell_type": "markdown",
   "metadata": {},
   "source": [
    "We can run the page rank algorithm using the **page_rank** function in PyKrev."
   ]
  },
  {
   "cell_type": "code",
   "execution_count": 4,
   "metadata": {},
   "outputs": [
    {
     "name": "stdout",
     "output_type": "stream",
     "text": [
      "22 iterations to convergence.\n"
     ]
    }
   ],
   "source": [
    "r = pk.page_rank(msTuple, reactionDict = reactionDict, d = 0.9, tol = 0.01)"
   ]
  },
  {
   "cell_type": "markdown",
   "metadata": {},
   "source": [
    "The code below shows how we would do it in Python without the PyKrev function."
   ]
  },
  {
   "cell_type": "code",
   "execution_count": 5,
   "metadata": {},
   "outputs": [
    {
     "name": "stdout",
     "output_type": "stream",
     "text": [
      "22 iterations to convergence.\n"
     ]
    }
   ],
   "source": [
    "## Create the matrix L \n",
    "L = np.zeros([N,N])\n",
    "for j in range(N):\n",
    "    for reactionType in reactionDict.keys():\n",
    "        # find possible matches, use np.round to account for rounding errors\n",
    "        matchIndex = np.where(np.round(formulaMass,8) == np.round((formulaMass[j] + reactionDict[reactionType]),8))\n",
    "        # if a match is found\n",
    "        if len(matchIndex[0]) > 0:\n",
    "            L[matchIndex,j] = 1\n",
    "    ## normalise the probabilities so they sum to one\n",
    "    if sum(L[:,j]) > 0:\n",
    "        L[:,j] = L[:,j]/sum(L[:,j])\n",
    "    ## if the column sums to zero set to 1/N\n",
    "    else: \n",
    "        L[:,j] = 1/N\n",
    "# run the pageRank algorithm to convergence\n",
    "r = 100 * np.ones(N) / N # Sets up the probability vector\n",
    "d = .9 # Damping factor - feel free to play with this parameter after running the code once.\n",
    "M = d * L + (1-d)/N * np.ones([N, N]) # np.ones() is the J matrix, with ones for each entry.\n",
    "lastR = r\n",
    "r = M @ r\n",
    "i = 0\n",
    "while la.norm(lastR - r) > 0.01 :\n",
    "    lastR = r\n",
    "    r = M @ r\n",
    "    i += 1\n",
    "print(str(i) + \" iterations to convergence.\")"
   ]
  },
  {
   "cell_type": "markdown",
   "metadata": {},
   "source": [
    "Let's look at some statistics describing the page rank scores."
   ]
  },
  {
   "cell_type": "code",
   "execution_count": 6,
   "metadata": {},
   "outputs": [
    {
     "name": "stdout",
     "output_type": "stream",
     "text": [
      "The highest page rank formula is\n",
      "C10H20O3\n",
      "With a probability at convergence of\n",
      "0.10373265646293117\n",
      "The top 10 page rank formula are: \n",
      "C8H13N1O6\n",
      "C9H14O4\n",
      "C7H11N1O6\n",
      "C18H30O6\n",
      "C8H13N1O5\n",
      "C9H16O4\n",
      "C9H16O3\n",
      "C9H18O3\n",
      "C8H16N2O4\n",
      "C10H20O3\n",
      "The correlation between pagerank and peak intensity is\n",
      "0.3413293800313798\n",
      "The correlation between pagerank and formula mass is\n",
      "-0.4016422200325277\n",
      "A histogram of probabilities at d == 0.9\n"
     ]
    },
    {
     "data": {
      "image/png": "[encoded data removed]",
      "text/plain": [
       "<Figure size 432x288 with 1 Axes>"
      ]
     },
     "metadata": {
      "needs_background": "light"
     },
     "output_type": "display_data"
    }
   ],
   "source": [
    "argmax = np.argmax(r)\n",
    "print('The highest page rank formula is')\n",
    "print(formulaList[argmax])\n",
    "print('With a probability at convergence of')\n",
    "print(max(r))\n",
    "print('The top 10 page rank formula are: ')\n",
    "top_10_idx = np.argsort(r)[-10:]\n",
    "for i in top_10_idx:\n",
    "    print(formulaList[i])\n",
    "print(f'The correlation between pagerank and peak intensity is')\n",
    "print(stats.spearmanr(r,intensityNorm)[0])\n",
    "print(f'The correlation between pagerank and formula mass is')\n",
    "print(stats.spearmanr(r,formulaMass)[0])\n",
    "print(f'A histogram of probabilities at d == {d}')\n",
    "hist = plt.hist(r, bins = 100)"
   ]
  },
  {
   "cell_type": "markdown",
   "metadata": {},
   "source": [
    "## Part 2: Create a graphML representation of the reaction network which can be visualised using Cytoscape\n",
    "\n",
    "PageRank is only informative if we have a graphical depiction of what our reaction network looks like. To do that we will use the ```networkx``` python library to create a .graphML format of our reaction network. We can then visualise this network using the free and open source [Cytoscape](https://cytoscape.org). networkx can be installed using ```pip install networkx``` and Cytoscape can be installed from the website. There is thorough and helpful documentation for both software packages which I encourage you to refer to if you get stuck.\n",
    "\n",
    "We will use networkx to create a representation of our reaction network which we can load into Cytoscape. We will add annotation to the edges in the network so they are labelled by reaction type, and we will annotate the nodes in the network so they are labelled with their corresponding pageRank values and peak intensities.\n",
    "\n",
    "This can be done using the **reaction_network** function in PyKrev."
   ]
  },
  {
   "cell_type": "code",
   "execution_count": 7,
   "metadata": {},
   "outputs": [
    {
     "name": "stdout",
     "output_type": "stream",
     "text": [
      "Number of nodes in graph:\n",
      "2775\n",
      "Number of edges in graph\n",
      "18031\n",
      "{'decarboxylation': 1711, 'methylation': 2178, 'demethylation': 2178, 'hydrogenation': 2083, 'dehydrogenation': 2083, 'hydration': 1869, 'dehydration': 1869, 'oxidation': 2030, 'reduction': 2030}\n"
     ]
    }
   ],
   "source": [
    "G, reactionCounts = pk.reaction_network(msTuple, reactionDict = reactionDict, filePath = 'FTICRMS.graphML', fileFormat = 'graphml', nodeAnnotations = {\"pageRank\" : r, \"peakIntensity\" : intensityArray}, roundVal = 8)\n",
    "print(reactionCounts)"
   ]
  },
  {
   "cell_type": "markdown",
   "metadata": {},
   "source": [
    "**Import the network file we just saved into cytoscape and do further stylistic changes and network analysis. A brief video tutorial on using cytoscape is show below.**\n",
    "\n",
    "*Note: if the video doesn't load, it is available as an unlisted video on YouTube: https://www.youtube.com/watch?v=CQeIEZ6-e50*"
   ]
  },
  {
   "cell_type": "code",
   "execution_count": 8,
   "metadata": {},
   "outputs": [
    {
     "data": {
      "image/jpeg": "[encoded data removed]",
      "text/html": [
       "\n",
       "        <iframe\n",
       "            width=\"600\"\n",
       "            height=\"300\"\n",
       "            src=\"https://www.youtube.com/embed/CQeIEZ6-e50\"\n",
       "            frameborder=\"0\"\n",
       "            allowfullscreen\n",
       "        ></iframe>\n",
       "        "
      ],
      "text/plain": [
       "<IPython.lib.display.YouTubeVideo at 0x169446467f0>"
      ]
     },
     "execution_count": 8,
     "metadata": {},
     "output_type": "execute_result"
    }
   ],
   "source": [
    "from IPython.display import YouTubeVideo\n",
    "YouTubeVideo('CQeIEZ6-e50', width=600,height=300)"
   ]
  },
  {
   "cell_type": "markdown",
   "metadata": {},
   "source": [
    "## Part 3: Page Rank with defined probabilities"
   ]
  },
  {
   "cell_type": "markdown",
   "metadata": {},
   "source": [
    "PageRank provides an alternative to peak intensities for calculating relative formula abundance. \n",
    "\n",
    "Assumptions:\n",
    "1. all reactions in our network are equally likely\n",
    "2. the network is closed (only the formula that we have detected can be nodes)\n",
    "3. the reactions in our network are constantly happening at a rate proportional to their node size\n",
    "\n",
    "If we have prior knowledge of the system, we do not have to assume (1) that all reactions are equally likely. \n",
    "\n",
    "It is possible to define reaction probabilities when creating the transition matrix L. \n",
    "\n",
    "We can then see how our pagerank scores change under changing reaction probabilities.\n",
    "\n",
    "This is done below using the **page_rank** function in PyKrev and a reaction weights dictionary. (Note: the edge weights are still normalised to one, so increasing the weighting of one type of reaction will only affect edge probabilities if there are multiple edges from a single node.)"
   ]
  },
  {
   "cell_type": "code",
   "execution_count": 9,
   "metadata": {},
   "outputs": [],
   "source": [
    "reactionWeights = {\n",
    "## set decarboxylation to be tjree times as likely as the other reactions\n",
    "'decarboxylation': 3,\n",
    "## methylation \n",
    "'methylation': 1,\n",
    "## demethylation \n",
    "'demethylation': 1,\n",
    "## hydrogenation\n",
    "'hydrogenation': 1,\n",
    "## dehydrogenation\n",
    "'dehydrogenation': 1,\n",
    "## hydration \n",
    "'hydration': 1,\n",
    "## dehydration \n",
    "'dehydration': 1,\n",
    "# oxidation\n",
    "'oxidation': 1,\n",
    "# reduction\n",
    "'reduction': 1\n",
    "}"
   ]
  },
  {
   "cell_type": "code",
   "execution_count": 10,
   "metadata": {},
   "outputs": [
    {
     "name": "stdout",
     "output_type": "stream",
     "text": [
      "24 iterations to convergence.\n"
     ]
    }
   ],
   "source": [
    "r = pk.page_rank(msTuple, reactionWeights = reactionWeights, d = 0.9, tol = 0.01)"
   ]
  },
  {
   "cell_type": "code",
   "execution_count": 11,
   "metadata": {},
   "outputs": [
    {
     "name": "stdout",
     "output_type": "stream",
     "text": [
      "The highest page rank formula is\n",
      "C9H18O3\n",
      "With a probability at convergence of\n",
      "0.2626275883903489\n",
      "The top 10 page rank formula are: \n",
      "C17H28O5\n",
      "C18H30O6\n",
      "C10H18O4\n",
      "C8H13N1O5\n",
      "C9H14O4\n",
      "C10H18O3\n",
      "C9H16O4\n",
      "C9H16O3\n",
      "C10H20O3\n",
      "C9H18O3\n",
      "The correlation between pagerank and peak intensity is\n",
      "0.2356079967161683\n",
      "The correlation between pagerank and formula mass is\n",
      "-0.4509049031531414\n",
      "A histogram of probabilities at d == 0.9\n"
     ]
    },
    {
     "data": {
      "image/png": "[encoded data removed]",
      "text/plain": [
       "<Figure size 432x288 with 1 Axes>"
      ]
     },
     "metadata": {
      "needs_background": "light"
     },
     "output_type": "display_data"
    }
   ],
   "source": [
    "argmax = np.argmax(r)\n",
    "print('The highest page rank formula is')\n",
    "print(formulaList[argmax])\n",
    "print('With a probability at convergence of')\n",
    "print(max(r))\n",
    "print('The top 10 page rank formula are: ')\n",
    "top_10_idx = np.argsort(r)[-10:]\n",
    "for i in top_10_idx:\n",
    "    print(formulaList[i])\n",
    "print(f'The correlation between pagerank and peak intensity is')\n",
    "print(stats.spearmanr(r,intensityNorm)[0])\n",
    "print(f'The correlation between pagerank and formula mass is')\n",
    "print(stats.spearmanr(r,formulaMass)[0])\n",
    "print(f'A histogram of probabilities at d == {d}')\n",
    "hist = plt.hist(r, bins = 100)"
   ]
  },
  {
   "cell_type": "markdown",
   "metadata": {},
   "source": [
    "## Part 4: Reverse Page Rank"
   ]
  },
  {
   "cell_type": "markdown",
   "metadata": {},
   "source": [
    "Following on from the above, the PageRank algorithm can be inverted so that we infer the probability of edges (i.e. reactions) from already known node abundance (i.e. molecular formula relative intensity). This problem is known as Reverse PageRank and is a current area of research in data science. The problem has also been indirectly tackled in linear algebra research in mathematics, where it is known as a 'Prescribed Entry Inverse Eigenvalue Problem' in which the prescribed entries are zeros, and there is a constraint that the output matrix must be left-handed stochastic (so the columns sum to one). A few key publications tackling this problem are as follows: \n",
    "* https://www.sciencedirect.com/science/article/pii/S0024379503003938?via%3Dihub (2004)\n",
    "* http://proceedings.mlr.press/v70/maystre17b.html (2017, image from paper below)\n",
    "* https://epjdatascience.springeropen.com/articles/10.1140/epjds/s13688-020-00240-z (2020)\n",
    "\n",
    "![Author: Lucas Maystre](choicerank.png \" Depiction of choicerank algorithm. Author: Lucas Maystre, used under CC 2.5\")\n",
    "\n",
    "\n",
    "We are going to use the algorithm implemented in the last paper (Gábor Berend, 2020). The algorithm is implemented in Java so you will need to have the Java runtime installed to run the next code cell. For more instructions see: https://github.com/begab/reversePageRank"
   ]
  },
  {
   "cell_type": "code",
   "execution_count": 12,
   "metadata": {},
   "outputs": [
    {
     "name": "stdout",
     "output_type": "stream",
     "text": [
      "Number of nodes in graph:\n",
      "2775\n",
      "Number of edges in graph\n",
      "18031\n"
     ]
    }
   ],
   "source": [
    "# First we need to save a copy of the file in the .gexf format with a 'weight' annotation corresponding to normalised peak intensities\n",
    "G, reactionCounts = pk.reaction_network(msTuple, reactionDict = reactionDict, filePath = 'FTICRMS.gexf', fileFormat = 'gexf', nodeAnnotations = { \"weight\" : intensityNorm}, roundVal = 8)"
   ]
  },
  {
   "cell_type": "code",
   "execution_count": 13,
   "metadata": {},
   "outputs": [
    {
     "name": "stderr",
     "output_type": "stream",
     "text": [
      "Network from file FTICRMS.gexf with 2775 vertices and 18031 edges read in.\n",
      "EXITING BACKTRACK: Jump too small (alamin=1.5134351953989778E-7). Exiting and using xold. Value=-1.138457421911441\n",
      "Line search could not step in the current direction. (This is not necessarily cause for alarm. Sometimes this happens close to the maximum, where the function may be very flat.)\n",
      "The initial objective value improved from 1.992311 to 1.138457\n",
      "The predicted edge transition probabilities were written into file output.log.\n"
     ]
    }
   ],
   "source": [
    "# you will need to install the java runtime to execute the following code cell\n",
    "!java -jar reversePageRank.jar FTICRMS.gexf"
   ]
  },
  {
   "cell_type": "markdown",
   "metadata": {},
   "source": [
    "In the next code cell, we parse the output.log file that the reverse pagerank algorithm outputs to do the following: \n",
    "1. read in the 'learned' transitional probability matrix\n",
    "2. read in the page rank scores of this optimised probability matrix and see how they compare to the peak intensities the algorithm was was trained on\n",
    "3. look at the expected value of a reaction type in our system by averaging over all edge probabilities corresponding to a given reaction type and multiplying that value by the number of those reactions in the system. The probability of observing each reaction type if the system was sampled at random can then be calculated by dividing a given expected value by the sum of expected values for all reaction types.\n",
    "    *  $E(reaction type) = \\sum{reaction type} \\times averageTransitionalProbability(reaction type)$\n",
    "    \n",
    "    * $p(reaction type) = \\frac{E(reaction type)}{\\sum{E(reaction type)}}$\n"
   ]
  },
  {
   "cell_type": "code",
   "execution_count": 14,
   "metadata": {},
   "outputs": [],
   "source": [
    "#This dictionary is used to hold find average reaction values \n",
    "reverseValues = []\n",
    "for v in  reactionDict.values():\n",
    "    reverseValues.append(np.round(float(v),8))\n",
    "reverseDict = dict((v,k) for k,v in zip(reactionDict.keys(),reverseValues))\n",
    "# reaction Arrays is a dictionary which will hold the probabilities of each type of reaction in an array \n",
    "reactionArrays = reactionDict.fromkeys(reactionDict, np.array([]))\n",
    "L2 = np.zeros([N,N])\n",
    "r2 = []\n",
    "import csv\n",
    "with open('output.log') as csvfile:\n",
    "    reader = csv.reader(csvfile, delimiter = '\\t')\n",
    "    for row in reader:\n",
    "        # then it's a node\n",
    "        if len(row) == 4:\n",
    "            cindex = int(row[0])\n",
    "            # save the page rank scores of the learned probability matrix\n",
    "            r2.append(float(row[3]))\n",
    "        # then it's a transition\n",
    "        elif len(row) == 3:\n",
    "            rform = row[1][2::]\n",
    "            currentReaction = reverseDict[float(np.round(pk.calculate_mass([rform]) - pk.calculate_mass([formulaList[cindex]]), 8))] \n",
    "            reactionArrays[currentReaction] = np.append(float(row[2]),reactionArrays[currentReaction])\n",
    "            matchIndex = formulaList.index(rform)\n",
    "            L2[cindex,matchIndex] = float(row[2])\n",
    "# recreate the learned probailty matrix\n",
    "for i in range(N):\n",
    "    if(np.sum(L2[i,:])) == 0:\n",
    "        L2[i,:] = 1/N"
   ]
  },
  {
   "cell_type": "markdown",
   "metadata": {},
   "source": [
    "Below we print some statistics about the page rank scores of the optimised probabiliy matrix"
   ]
  },
  {
   "cell_type": "code",
   "execution_count": 15,
   "metadata": {},
   "outputs": [
    {
     "name": "stdout",
     "output_type": "stream",
     "text": [
      "The highest page rank formula is\n",
      "C6H8O7\n",
      "With a probability at convergence of\n",
      "0.032185\n",
      "The top 10 page rank formula are: \n",
      "C8H6O6\n",
      "C7H10O7\n",
      "C6H6O6\n",
      "C6H12O7\n",
      "C6H8O6\n",
      "C9H18O3\n",
      "C8H16O3\n",
      "C6H12O6\n",
      "C6H10O7\n",
      "C6H8O7\n",
      "The correlation between pagerank and peak intensity is\n",
      "0.6406822177718946\n",
      "The correlation between pagerank and formula mass is\n",
      "-0.5943066809340042\n",
      "\n",
      "A histogram of page probabilities:\n"
     ]
    },
    {
     "data": {
      "image/png": "[encoded data removed]",
      "text/plain": [
       "<Figure size 432x288 with 1 Axes>"
      ]
     },
     "metadata": {
      "needs_background": "light"
     },
     "output_type": "display_data"
    },
    {
     "name": "stdout",
     "output_type": "stream",
     "text": [
      "\n",
      "A box plot of reaction probabilities:\n"
     ]
    },
    {
     "data": {
      "image/png": "[encoded data removed]",
      "text/plain": [
       "<Figure size 432x288 with 1 Axes>"
      ]
     },
     "metadata": {
      "needs_background": "light"
     },
     "output_type": "display_data"
    },
    {
     "name": "stdout",
     "output_type": "stream",
     "text": [
      "\n",
      "Average probability of each reaction following reverse PageRank:\n",
      "decarboxylation = 0.11639615663354763\n",
      "methylation = 0.14954279476584023\n",
      "demethylation = 0.16582826721763083\n",
      "hydrogenation = 0.14751726740278442\n",
      "dehydrogenation = 0.15581176380220835\n",
      "hydration = 0.1415799111824505\n",
      "dehydration = 0.12749200160513643\n",
      "oxidation = 0.1886149561576355\n",
      "reduction = 0.13564029950738918\n"
     ]
    }
   ],
   "source": [
    "argmax = np.argmax(r2)\n",
    "print('The highest page rank formula is')\n",
    "print(formulaList[argmax])\n",
    "print('With a probability at convergence of')\n",
    "print(max(r2))\n",
    "print('The top 10 page rank formula are: ')\n",
    "top_10_idx = np.argsort(r2)[-10:]\n",
    "for i in top_10_idx:\n",
    "    print(formulaList[i])\n",
    "print(f'The correlation between pagerank and peak intensity is')\n",
    "print(stats.spearmanr(r2,intensityNorm)[0])\n",
    "print(f'The correlation between pagerank and formula mass is')\n",
    "print(stats.spearmanr(r2,formulaMass)[0])\n",
    "print()\n",
    "print(f'A histogram of page probabilities:')\n",
    "hist = plt.hist(r2, bins = 100)\n",
    "plt.show()\n",
    "print()\n",
    "print(f'A box plot of reaction probabilities:')\n",
    "fig, ax = plt.subplots()\n",
    "labels, data = [*zip(*reactionArrays.items())]  # 'transpose' items to parallel key, value lists\n",
    "ax.boxplot(data, 0 , \"\")\n",
    "ax.set_xticklabels(labels, rotation = 90)\n",
    "ax.set_ylabel('Probability')\n",
    "ax.set_xlabel('Reaction Type')\n",
    "plt.show()\n",
    "print()\n",
    "print('Average probability of each reaction following reverse PageRank:')\n",
    "for key in reactionArrays.keys():\n",
    "    print(f'{key} = {reactionArrays[key].mean()}')"
   ]
  },
  {
   "cell_type": "markdown",
   "metadata": {},
   "source": [
    "## Part 5: Summary"
   ]
  },
  {
   "cell_type": "markdown",
   "metadata": {},
   "source": [
    "To summarise: \n",
    "1. PageRank scores offer an alternative to peak intensities for ranking molecular formula by importance. \n",
    "2. PageRank with defined probabilities allows us to simulate how formula rankings would change under different reaction conditions. \n",
    "3. Reverse PageRank enables us to learn reaction probabilities from known formula abundance. \n"
   ]
  },
  {
   "cell_type": "markdown",
   "metadata": {},
   "source": [
    "Let me know if you have any questions or feedback on this approach by email."
   ]
  }
 ],
 "metadata": {
  "kernelspec": {
   "display_name": "Python 3",
   "language": "python",
   "name": "python3"
  },
  "language_info": {
   "codemirror_mode": {
    "name": "ipython",
    "version": 3
   },
   "file_extension": ".py",
   "mimetype": "text/x-python",
   "name": "python",
   "nbconvert_exporter": "python",
   "pygments_lexer": "ipython3",
   "version": "3.9.1"
  }
 },
 "nbformat": 4,
 "nbformat_minor": 4
}
